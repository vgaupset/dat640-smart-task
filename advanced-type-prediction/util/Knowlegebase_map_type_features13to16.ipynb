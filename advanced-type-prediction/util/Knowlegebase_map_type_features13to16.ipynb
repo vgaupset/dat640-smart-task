{
 "cells": [
  {
   "cell_type": "code",
   "execution_count": 1,
   "metadata": {},
   "outputs": [],
   "source": [
    "import sys,json\n",
    "from typing import Callable, Dict, List, Set, Tuple\n",
    "sys.path.insert(0, '../extract_features')\n",
    "from extract_No13to15_features import TypeTaxonomy, extract_features_13to15\n",
    "from extract_No16_feature import extract_features_16"
   ]
  },
  {
   "cell_type": "code",
   "execution_count": 3,
   "metadata": {},
   "outputs": [],
   "source": [
    "def map_type_featureVectors_13to16(typeobj:TypeTaxonomy,\n",
    "                        DBpedia_map_type_entities:Dict\n",
    "                        )->Dict[str,List]:\n",
    "    \"\"\"calculate the feature 13 to 16 for all DBOtypes, \n",
    "        and save as dictionary\n",
    "        \n",
    "        Args:\n",
    "            DBpedia_map_type_entities:Dict. DBOtype ~ list of DBpedia entities that have this type.\n",
    "            \n",
    "        returns: Dictionary. DBOtype ~ features 13-16\n",
    "    \"\"\"\n",
    "    \n",
    "    map_type_featureVectors={}\n",
    "    all_DBOtype=list(typeobj._types.keys())\n",
    "    #remove the first type:\"thing\"\n",
    "    all_DBOtype=all_DBOtype[1:]\n",
    "    for DBOtype in all_DBOtype:\n",
    "        dict_13to16={}\n",
    "        features_13to15 = extract_features_13to15(typeobj,DBOtype)\n",
    "        feature_vect =list(features_13to15.values())\n",
    "\n",
    "        features_16=extract_features_16(DBpedia_map_type_entities,DBOtype)\n",
    "        feature_vect.extend(list(features_16.values()))\n",
    "     \n",
    "        map_type_featureVectors[DBOtype]=feature_vect\n",
    "        \n",
    "    return map_type_featureVectors\n",
    "        \n"
   ]
  },
  {
   "cell_type": "code",
   "execution_count": 7,
   "metadata": {},
   "outputs": [],
   "source": [
    "filepath=\"../data/DBpedia_map_type_entities.json\"\n",
    "with open(filepath, 'r', encoding='utf-8') as file:\n",
    "    DBpedia_map_type_entities = json.load(file)\n",
    "    \n",
    "typeobj=TypeTaxonomy(\"../data/dbpedia_types.tsv\")\n",
    "features_13to16=map_type_featureVectors_13to16(typeobj,DBpedia_map_type_entities) \n",
    "\n",
    "with open(\"../data/Knowledgebase_map_type_features_13to16.json\", 'w') as f:\n",
    "  json.dump(features_13to16, f)"
   ]
  }
 ],
 "metadata": {
  "kernelspec": {
   "display_name": "Python 3",
   "language": "python",
   "name": "python3"
  },
  "language_info": {
   "codemirror_mode": {
    "name": "ipython",
    "version": 3
   },
   "file_extension": ".py",
   "mimetype": "text/x-python",
   "name": "python",
   "nbconvert_exporter": "python",
   "pygments_lexer": "ipython3",
   "version": "3.7.6"
  },
  "toc": {
   "base_numbering": 1,
   "nav_menu": {},
   "number_sections": true,
   "sideBar": true,
   "skip_h1_title": false,
   "title_cell": "Table of Contents",
   "title_sidebar": "Contents",
   "toc_cell": false,
   "toc_position": {},
   "toc_section_display": true,
   "toc_window_display": false
  }
 },
 "nbformat": 4,
 "nbformat_minor": 4
}
