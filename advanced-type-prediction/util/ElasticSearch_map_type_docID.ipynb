{
 "cells": [
  {
   "cell_type": "code",
   "execution_count": 5,
   "metadata": {},
   "outputs": [],
   "source": [
    "from elasticsearch import Elasticsearch\n",
    "from typing import Dict, List, Optional\n",
    "import json"
   ]
  },
  {
   "cell_type": "code",
   "execution_count": 2,
   "metadata": {},
   "outputs": [
    {
     "name": "stdout",
     "output_type": "stream",
     "text": [
      "/c/Users/junec/AppData/Local/Programs/Python/Python38/python\n"
     ]
    }
   ],
   "source": [
    "#!which python"
   ]
  },
  {
   "cell_type": "code",
   "execution_count": 6,
   "metadata": {},
   "outputs": [],
   "source": [
    "def map_docID_DBOtype(es=Elasticsearch(),index=\"dbpdiea_type_centric\")->Dict:\n",
    "    if not es.indices.exists(index):\n",
    "        print(f'Index: {index} not exist ')\n",
    "        return None\n",
    "    count = es.cat.count(index, params={\"format\": \"json\"})\n",
    "    len_indexed=int(count[0][\"count\"])\n",
    "    if len_indexed==0:\n",
    "        print(f'No items exist in {index}')\n",
    "        return None\n",
    "  \n",
    "    return {es.get(index=index, id=str(i))['_source'][\"type\"]:str(i) for i in range(len_indexed)}"
   ]
  },
  {
   "cell_type": "code",
   "execution_count": 7,
   "metadata": {},
   "outputs": [
    {
     "name": "stderr",
     "output_type": "stream",
     "text": [
      "C:\\Users\\junec\\AppData\\Local\\Temp/ipykernel_24828/1564314955.py:2: DeprecationWarning: Using positional arguments for APIs is deprecated and will be disabled in 8.0.0. Instead use only keyword arguments for all APIs. See https://github.com/elastic/elasticsearch-py/issues/1698 for more information\n",
      "  if not es.indices.exists(index):\n",
      "C:\\Users\\junec\\AppData\\Local\\Temp/ipykernel_24828/1564314955.py:5: DeprecationWarning: Using positional arguments for APIs is deprecated and will be disabled in 8.0.0. Instead use only keyword arguments for all APIs. See https://github.com/elastic/elasticsearch-py/issues/1698 for more information\n",
      "  count = es.cat.count(index, params={\"format\": \"json\"})\n"
     ]
    },
    {
     "name": "stdout",
     "output_type": "stream",
     "text": [
      "'test_ElasticSearch_map_type_docID.json' has been created\n",
      "------length: 421\n"
     ]
    }
   ],
   "source": [
    "docID_DBOtype_dict=map_docID_DBOtype() \n",
    "filepath=\"../data/ElasticSearch_map_type_docID.json\"\n",
    "with open(filepath, 'w',encoding='utf-8') as f:\n",
    "    json.dump(docID_DBOtype_dict, f, ensure_ascii=False)\n",
    "print(f'{filepath} has been created, {len(docID_DBOtype_dict)} are in this dictionary')"
   ]
  },
  {
   "cell_type": "code",
   "execution_count": null,
   "metadata": {},
   "outputs": [],
   "source": []
  }
 ],
 "metadata": {
  "kernelspec": {
   "display_name": "Python 3 (ipykernel)",
   "language": "python",
   "name": "python3"
  },
  "language_info": {
   "codemirror_mode": {
    "name": "ipython",
    "version": 3
   },
   "file_extension": ".py",
   "mimetype": "text/x-python",
   "name": "python",
   "nbconvert_exporter": "python",
   "pygments_lexer": "ipython3",
   "version": "3.8.4"
  },
  "toc": {
   "base_numbering": 1,
   "nav_menu": {},
   "number_sections": true,
   "sideBar": true,
   "skip_h1_title": false,
   "title_cell": "Table of Contents",
   "title_sidebar": "Contents",
   "toc_cell": false,
   "toc_position": {},
   "toc_section_display": true,
   "toc_window_display": false
  }
 },
 "nbformat": 4,
 "nbformat_minor": 4
}
