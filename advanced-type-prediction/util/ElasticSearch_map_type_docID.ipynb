{
 "cells": [
  {
   "cell_type": "markdown",
   "metadata": {},
   "source": [
    "**for the indexed \"dbpdiea_type_centric\", get a dictionary, key is DBOtype, value is the doc_id in elasticSearch**"
   ]
  },
  {
   "cell_type": "code",
   "execution_count": 1,
   "metadata": {},
   "outputs": [],
   "source": [
    "from elasticsearch import Elasticsearch\n",
    "from typing import Dict, List, Optional\n",
    "import json"
   ]
  },
  {
   "cell_type": "code",
   "execution_count": 2,
   "metadata": {},
   "outputs": [],
   "source": [
    "#!which python"
   ]
  },
  {
   "cell_type": "code",
   "execution_count": 3,
   "metadata": {},
   "outputs": [],
   "source": [
    "def map_docID_DBOtype(es=Elasticsearch(),index=\"dbpdiea_type_centric\")->Dict:\n",
    "    \n",
    "    \"\"\"parse elasticSearch doc_id with DBOtype \n",
    "        \n",
    "        Args: es: Elasticsearch object.\n",
    "        index: index name of elasticsearch\n",
    "        \n",
    "        returns:dictionary. doc_id ~ DBOtype.\n",
    "    \"\"\"\n",
    "    if not es.indices.exists(index):\n",
    "        print(f'Index: {index} not exist ')\n",
    "        return None\n",
    "    count = es.cat.count(index, params={\"format\": \"json\"})\n",
    "    len_indexed=int(count[0][\"count\"])\n",
    "    if len_indexed==0:\n",
    "        print(f'No items exist in {index}')\n",
    "        return None\n",
    "  \n",
    "    return {es.get(index=index, id=str(i))['_source'][\"type\"]:str(i) for i in range(len_indexed)},{str(i):es.get(index=index, id=str(i))['_source'][\"type\"] for i in range(len_indexed)}"
   ]
  },
  {
   "cell_type": "code",
   "execution_count": 4,
   "metadata": {},
   "outputs": [
    {
     "name": "stderr",
     "output_type": "stream",
     "text": [
      "C:\\Users\\junec\\anaconda3\\lib\\site-packages\\ipykernel_launcher.py:2: DeprecationWarning: Using positional arguments for APIs is deprecated and will be disabled in 8.0.0. Instead use only keyword arguments for all APIs. See https://github.com/elastic/elasticsearch-py/issues/1698 for more information\n",
      "  \n",
      "C:\\Users\\junec\\anaconda3\\lib\\site-packages\\ipykernel_launcher.py:5: DeprecationWarning: Using positional arguments for APIs is deprecated and will be disabled in 8.0.0. Instead use only keyword arguments for all APIs. See https://github.com/elastic/elasticsearch-py/issues/1698 for more information\n",
      "  \"\"\"\n"
     ]
    },
    {
     "name": "stdout",
     "output_type": "stream",
     "text": [
      "../data/ElasticSearch_map_docID_type.json has been created, 421 are in this dictionary\n"
     ]
    }
   ],
   "source": [
    "DBOtype_docID_dict,docID_DBOtype_dict=map_docID_DBOtype() \n",
    "filepath=\"../data/ElasticSearch_map_type_docID.json\"\n",
    "with open(filepath, 'w',encoding='utf-8') as f:\n",
    "    json.dump(DBOtype_docID_dict, f, ensure_ascii=False)\n",
    "    \n",
    "filepath=\"../data/ElasticSearch_map_docID_type.json\"\n",
    "with open(filepath, 'w',encoding='utf-8') as f:\n",
    "    json.dump(docID_DBOtype_dict, f, ensure_ascii=False)\n",
    "print(f'{filepath} has been created, {len(docID_DBOtype_dict)} are in this dictionary')"
   ]
  },
  {
   "cell_type": "code",
   "execution_count": null,
   "metadata": {},
   "outputs": [],
   "source": []
  }
 ],
 "metadata": {
  "kernelspec": {
   "display_name": "Python 3",
   "language": "python",
   "name": "python3"
  },
  "language_info": {
   "codemirror_mode": {
    "name": "ipython",
    "version": 3
   },
   "file_extension": ".py",
   "mimetype": "text/x-python",
   "name": "python",
   "nbconvert_exporter": "python",
   "pygments_lexer": "ipython3",
   "version": "3.7.6"
  },
  "toc": {
   "base_numbering": 1,
   "nav_menu": {},
   "number_sections": true,
   "sideBar": true,
   "skip_h1_title": false,
   "title_cell": "Table of Contents",
   "title_sidebar": "Contents",
   "toc_cell": false,
   "toc_position": {},
   "toc_section_display": true,
   "toc_window_display": false
  }
 },
 "nbformat": 4,
 "nbformat_minor": 4
}
