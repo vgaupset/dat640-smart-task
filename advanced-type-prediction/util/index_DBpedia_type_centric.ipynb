{
 "cells": [
  {
   "cell_type": "markdown",
   "metadata": {},
   "source": [
    "**Index the DBpedia entities into elasticSearch based on TYPE CENTRIC method**"
   ]
  },
  {
   "cell_type": "code",
   "execution_count": 1,
   "metadata": {},
   "outputs": [],
   "source": [
    "from elasticsearch import Elasticsearch\n",
    "from helper_function import preprocess, load_dict_from_json\n",
    "import json\n",
    "from typing import Dict, List, Optional"
   ]
  },
  {
   "cell_type": "code",
   "execution_count": 2,
   "metadata": {},
   "outputs": [
    {
     "name": "stdout",
     "output_type": "stream",
     "text": [
      "/c/Users/junec/AppData/Local/Programs/Python/Python38/python\n"
     ]
    }
   ],
   "source": [
    "!which python"
   ]
  },
  {
   "cell_type": "code",
   "execution_count": 3,
   "metadata": {},
   "outputs": [
    {
     "name": "stdout",
     "output_type": "stream",
     "text": [
      "----for test\n"
     ]
    }
   ],
   "source": [
    "if True:\n",
    "   %run test.ipynb "
   ]
  },
  {
   "cell_type": "code",
   "execution_count": 4,
   "metadata": {},
   "outputs": [],
   "source": [
    "#%run DBpedia_map_type_entities.ipynb"
   ]
  },
  {
   "cell_type": "code",
   "execution_count": 5,
   "metadata": {},
   "outputs": [],
   "source": [
    "INDEX_NAME = \"dbpdiea_type_centric\"\n",
    "INDEX_SETTINGS = {\n",
    "    \"mappings\": {\n",
    "        \"properties\": {\n",
    "            \"type\": {\n",
    "                \"type\": \"text\",\n",
    "                \"term_vector\": \"yes\",\n",
    "                \"analyzer\": \"english\",\n",
    "            },\n",
    "            \"abstract\": {\n",
    "                \"type\": \"text\",\n",
    "                \"term_vector\": \"yes\",\n",
    "                \"analyzer\": \"english\",\n",
    "            },\n",
    "\n",
    "        }\n",
    "    }\n",
    "}"
   ]
  },
  {
   "cell_type": "code",
   "execution_count": 6,
   "metadata": {},
   "outputs": [],
   "source": [
    "def produce_map_type_abstract(load_filepath1=\"../data/DBpedia_map_type_entities.json\",\n",
    "                              load_filepath2=\"../data/DBpedia_map_entity_abstract.json\",\n",
    "                              save_path=\"../data/DBpedia_map_type_abstract.json\")->bool:\n",
    "    \n",
    "    try:\n",
    "        with open(load_filepath1, 'r',encoding='utf-8') as f:\n",
    "            data_type = json.load(f)\n",
    "        print(f'\"{load_filepath1}\" is loaded, and the length is {len(data_type)}.') \n",
    "    except:\n",
    "        print(f'\"{load_filepath1}\" is not loaded.')\n",
    "        return False\n",
    "    \n",
    "    try:\n",
    "        with open(load_filepath2, 'r', encoding='utf-8') as file:\n",
    "            data_abstract = json.load(file)\n",
    "        print(f'\"{load_filepath2}\" is loaded, and the length is {len(data_abstract)}.') \n",
    "    except:\n",
    "        print(f'\"{load_filepath2}\" is not loaded.')\n",
    "        return False\n",
    "\n",
    "    #parse type with the abstract for all the entities belong to this type\n",
    "    map_type_abstract={}\n",
    "    for dp_type,entities in data_type.items():\n",
    "        abstract=\"\"\n",
    "        for entity in entities:\n",
    "            abstract=abstract+data_abstract.get(entity,\"\")\n",
    "        map_type_abstract[dp_type]=abstract\n",
    "        \n",
    "    collections=[{\"id\":str(i),\"type\":DBOtype,\"abstract\":map_type_abstract[DBOtype]} for i,DBOtype in enumerate(map_type_abstract)]\n",
    "   \n",
    "    with open(save_path, 'w',encoding='utf-8') as f:\n",
    "        json.dump(collections, f, ensure_ascii=False)\n",
    "    print(f'\"{save_path}\" is saved. There are {len(collections)} in this file')\n",
    "        \n",
    "    return True"
   ]
  },
  {
   "cell_type": "code",
   "execution_count": 17,
   "metadata": {},
   "outputs": [],
   "source": [
    "def index_dbpdiea_type_centric(index:str, index_settings:Dict,reset=False,testmode=False,filepath=\"../data/DBpedia_map_type_abstract.json\",es=Elasticsearch())->bool:\n",
    "    \"\"\"\n",
    "    set reset to be True, if want to reset the index in the elasticSearch\n",
    "    set testmode to be True, if want to use small test files\n",
    "    \"\"\"\n",
    "    es.info()\n",
    "    if reset and es.indices.exists(index):\n",
    "        es.indices.delete(index=index)\n",
    "        print(f'\"{index}\" is reset.')\n",
    "        \n",
    "    if es.indices.exists(index):\n",
    "        count = es.cat.count(index, params={\"format\": \"json\"})\n",
    "        print(f'\"{index}\" already exists in ElasticSearch, and there are {int(count[0][\"count\"])} items.') \n",
    "        return True\n",
    "    try:\n",
    "        file_object = open(filepath,\"r\",encoding=\"utf8\") \n",
    "        collections = json.loads(file_object.read())\n",
    "        print(f'\"{filepath}\" is loaded, and the length is {len(collections)}.') \n",
    " \n",
    "    except:\n",
    "        print(f'\"{filepath}\" is not loaded,try to produce it')\n",
    "        if testmode:\n",
    "            load_filepath1=\"../data/test_DBpedia_map_type_entities.json\"\n",
    "            load_filepath2=\"../data/test_DBpedia_map_entity_abstract.json\"\n",
    "            save_path=\"../data/test_DBpedia_map_type_abstract.json\"\n",
    "        else:\n",
    "            load_filepath1=\"../data/DBpedia_map_type_entities.json\"\n",
    "            load_filepath2=\"../data/DBpedia_map_entity_abstract.json\"\n",
    "            save_path=\"../data/DBpedia_map_type_abstract.json\"\n",
    "        produced=produce_map_type_abstract(load_filepath1,load_filepath2,save_path)\n",
    "    \n",
    "        if not produced:\n",
    "            print(f'\"{filepath}\" is not successfully produced.')\n",
    "            return False\n",
    "        else:\n",
    "            file_object = open(filepath,\"r\",encoding=\"utf8\") \n",
    "            collections = json.loads(file_object.read())\n",
    "            print(f'\"{filepath}\" is successfully produced and loaded, and the length is {len(collections)}.') \n",
    "        \n",
    "    \n",
    "    #the reading for the 7th item is really slow, do some processing\n",
    "    collections[7][\"abstract\"]=preprocess(collections[7][\"abstract\"])    \n",
    "    es.indices.create(index=index, body=index_settings)\n",
    "    for item in collections: \n",
    "        doc={\"type\":item[\"type\"],\"abstract\":item[\"abstract\"]}\n",
    "        es.index(index=index, doc_type=\"_doc\", id=item[\"id\"], body=doc)\n",
    "        \n",
    "    es.indices.refresh(index)\n",
    "    count = es.cat.count(index, params={\"format\": \"json\"})\n",
    "    print(f'\"{index}\" are created in ElasticSearch, and there are {int(count[0][\"count\"])} items indexed.') \n",
    "    return True"
   ]
  },
  {
   "cell_type": "code",
   "execution_count": 19,
   "metadata": {},
   "outputs": [
    {
     "name": "stderr",
     "output_type": "stream",
     "text": [
      "C:\\Users\\junec\\AppData\\Local\\Temp/ipykernel_21744/1876355477.py:3: DeprecationWarning: Using positional arguments for APIs is deprecated and will be disabled in 8.0.0. Instead use only keyword arguments for all APIs. See https://github.com/elastic/elasticsearch-py/issues/1698 for more information\n",
      "  if reset and es.indices.exists(index):\n"
     ]
    },
    {
     "name": "stdout",
     "output_type": "stream",
     "text": [
      "\"test_type_centric\" is reset.\n",
      "\"../data/test_DBpedia_map_type_abstract.json\" is not loaded,try to produce it\n",
      "\"../data/test_DBpedia_map_type_entities.json\" is loaded, and the length is 266.\n",
      "\"../data/test_DBpedia_map_entity_abstract.json\" is loaded, and the length is 5999.\n",
      "\"../data/test_DBpedia_map_type_abstract.json\" is saved. There are 266 in this file\n",
      "\"../data/test_DBpedia_map_type_abstract.json\" is successfully produced and loaded, and the length is 266.\n"
     ]
    },
    {
     "name": "stderr",
     "output_type": "stream",
     "text": [
      "C:\\Users\\junec\\AppData\\Local\\Temp/ipykernel_21744/1876355477.py:7: DeprecationWarning: Using positional arguments for APIs is deprecated and will be disabled in 8.0.0. Instead use only keyword arguments for all APIs. See https://github.com/elastic/elasticsearch-py/issues/1698 for more information\n",
      "  if es.indices.exists(index):\n",
      "C:\\Users\\junec\\AppData\\Local\\Temp/ipykernel_21744/1876355477.py:39: DeprecationWarning: The 'body' parameter is deprecated for the 'create' API and will be removed in a future version. Instead use API parameters directly. See https://github.com/elastic/elasticsearch-py/issues/1698 for more information\n",
      "  es.indices.create(index=index, body=index_settings)\n",
      "C:\\Users\\junec\\AppData\\Local\\Temp/ipykernel_21744/1876355477.py:42: DeprecationWarning: The 'body' parameter is deprecated for the 'index' API and will be removed in a future version. Instead use the 'document' parameter. See https://github.com/elastic/elasticsearch-py/issues/1698 for more information\n",
      "  es.index(index=index, doc_type=\"_doc\", id=item[\"id\"], body=doc)\n",
      "C:\\Users\\junec\\AppData\\Local\\Temp/ipykernel_21744/1876355477.py:44: DeprecationWarning: Using positional arguments for APIs is deprecated and will be disabled in 8.0.0. Instead use only keyword arguments for all APIs. See https://github.com/elastic/elasticsearch-py/issues/1698 for more information\n",
      "  es.indices.refresh(index)\n"
     ]
    },
    {
     "name": "stdout",
     "output_type": "stream",
     "text": [
      "\"test_type_centric\" are created in ElasticSearch, and there are 266 items indexed.\n"
     ]
    },
    {
     "name": "stderr",
     "output_type": "stream",
     "text": [
      "C:\\Users\\junec\\AppData\\Local\\Temp/ipykernel_21744/1876355477.py:45: DeprecationWarning: Using positional arguments for APIs is deprecated and will be disabled in 8.0.0. Instead use only keyword arguments for all APIs. See https://github.com/elastic/elasticsearch-py/issues/1698 for more information\n",
      "  count = es.cat.count(index, params={\"format\": \"json\"})\n"
     ]
    },
    {
     "data": {
      "text/plain": [
       "True"
      ]
     },
     "execution_count": 19,
     "metadata": {},
     "output_type": "execute_result"
    }
   ],
   "source": [
    "#small file for test\n",
    "index=\"test_type_centric\"\n",
    "index_settings=INDEX_SETTINGS\n",
    "filepath=\"../data/test_DBpedia_map_type_abstract.json\"\n",
    "index_dbpdiea_type_centric(index,index_settings,reset=True,testmode=True,filepath=filepath)"
   ]
  },
  {
   "cell_type": "code",
   "execution_count": 20,
   "metadata": {},
   "outputs": [
    {
     "name": "stdout",
     "output_type": "stream",
     "text": [
      "\"dbpdiea_type_centric\" already exists in ElasticSearch, and there are 421 items.\n"
     ]
    },
    {
     "name": "stderr",
     "output_type": "stream",
     "text": [
      "C:\\Users\\junec\\AppData\\Local\\Temp/ipykernel_21744/1876355477.py:7: DeprecationWarning: Using positional arguments for APIs is deprecated and will be disabled in 8.0.0. Instead use only keyword arguments for all APIs. See https://github.com/elastic/elasticsearch-py/issues/1698 for more information\n",
      "  if es.indices.exists(index):\n",
      "C:\\Users\\junec\\AppData\\Local\\Temp/ipykernel_21744/1876355477.py:8: DeprecationWarning: Using positional arguments for APIs is deprecated and will be disabled in 8.0.0. Instead use only keyword arguments for all APIs. See https://github.com/elastic/elasticsearch-py/issues/1698 for more information\n",
      "  count = es.cat.count(index, params={\"format\": \"json\"})\n"
     ]
    },
    {
     "data": {
      "text/plain": [
       "True"
      ]
     },
     "execution_count": 20,
     "metadata": {},
     "output_type": "execute_result"
    }
   ],
   "source": [
    "filepath=\"../data/DBpedia_map_type_abstract.json\"\n",
    "index_dbpdiea_type_centric(INDEX_NAME,INDEX_SETTINGS)"
   ]
  },
  {
   "cell_type": "code",
   "execution_count": 21,
   "metadata": {},
   "outputs": [
    {
     "data": {
      "text/plain": [
       "{'_index': 'dbpdiea_type_centric',\n",
       " '_type': '_doc',\n",
       " '_id': '419',\n",
       " '_version': 1,\n",
       " '_seq_no': 419,\n",
       " '_primary_term': 1,\n",
       " 'found': True,\n",
       " '_source': {'type': 'dbo:BoxingLeague',\n",
       "  'abstract': ' Super is a boxing tournament that is held in New Zealand  Super is owned by John McRae  who is the Managing director of VSLive  VS Live was formally known as Sky Arena  Sky ARENA previously owned by SKY Television New Zealand and VADR Media  In VADR Media acquired  of SKY ARENA shares and relaunched as VS LIVE '}}"
      ]
     },
     "execution_count": 21,
     "metadata": {},
     "output_type": "execute_result"
    }
   ],
   "source": [
    "es=Elasticsearch()\n",
    "es.get(index=INDEX_NAME,id=\"419\")"
   ]
  }
 ],
 "metadata": {
  "kernelspec": {
   "display_name": "Python 3 (ipykernel)",
   "language": "python",
   "name": "python3"
  },
  "language_info": {
   "codemirror_mode": {
    "name": "ipython",
    "version": 3
   },
   "file_extension": ".py",
   "mimetype": "text/x-python",
   "name": "python",
   "nbconvert_exporter": "python",
   "pygments_lexer": "ipython3",
   "version": "3.8.4"
  },
  "toc": {
   "base_numbering": 1,
   "nav_menu": {},
   "number_sections": true,
   "sideBar": true,
   "skip_h1_title": false,
   "title_cell": "Table of Contents",
   "title_sidebar": "Contents",
   "toc_cell": false,
   "toc_position": {},
   "toc_section_display": true,
   "toc_window_display": false
  }
 },
 "nbformat": 4,
 "nbformat_minor": 4
}
