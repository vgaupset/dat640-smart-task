{
 "cells": [
  {
   "cell_type": "markdown",
   "metadata": {},
   "source": [
    "**Index the DBpedia entities into elasticSearch based on TYPE CENTRIC method**"
   ]
  },
  {
   "cell_type": "code",
   "execution_count": 1,
   "metadata": {},
   "outputs": [],
   "source": [
    "from elasticsearch import Elasticsearch\n",
    "from helper_function import preprocess, load_dict_from_json\n",
    "import json\n",
    "from typing import Dict, List, Optional"
   ]
  },
  {
   "cell_type": "code",
   "execution_count": 2,
   "metadata": {},
   "outputs": [],
   "source": [
    "INDEX_NAME = \"dbpdiea_type_centric\"\n",
    "INDEX_SETTINGS = {\n",
    "    \"mappings\": {\n",
    "        \"properties\": {\n",
    "            \"type\": {\n",
    "                \"type\": \"text\",\n",
    "                \"term_vector\": \"yes\",\n",
    "                \"analyzer\": \"english\",\n",
    "            },\n",
    "            \"abstract\": {\n",
    "                \"type\": \"text\",\n",
    "                \"term_vector\": \"yes\",\n",
    "                \"analyzer\": \"english\",\n",
    "            },\n",
    "\n",
    "        }\n",
    "    }\n",
    "}"
   ]
  },
  {
   "cell_type": "code",
   "execution_count": 17,
   "metadata": {},
   "outputs": [],
   "source": [
    "def index_dbpdiea_type_centric(index:str, index_settings:Dict,\n",
    "                               reset=False,testmode=False,\n",
    "                               filepath=\"../data/DBpedia_map_type_abstract.json\",\n",
    "                               es=Elasticsearch())->bool:\n",
    "    \"\"\"parse DBpedia DBOtype with abstract of entities which have this type,\n",
    "        index to elasticsearch\n",
    "    \n",
    "        Args:\n",
    "        index:index name for elasticsearch\n",
    "        reset: set to be True, if want to reset and re-index into the elasticSearch.\n",
    "        filepath: file contains a dictionary DBOtype ~ short abstract.\n",
    "        es: Elasticsearch object.\n",
    "    \"\"\"\n",
    "    es.info()\n",
    "    if reset and es.indices.exists(index):\n",
    "        es.indices.delete(index=index)\n",
    "        print(f'\"{index}\" is reset.')\n",
    "        \n",
    "    if es.indices.exists(index):\n",
    "        count = es.cat.count(index, params={\"format\": \"json\"})\n",
    "        print(f'\"{index}\" already exists in ElasticSearch, and there are {int(count[0][\"count\"])} items.') \n",
    "        return True\n",
    "    try:\n",
    "        file_object = open(filepath,\"r\",encoding=\"utf8\") \n",
    "        collections = json.loads(file_object.read())\n",
    "        print(f'\"{filepath}\" is loaded, and the length is {len(collections)}.') \n",
    " \n",
    "    except FileNotFoundError:\n",
    "        print(f'\"{filepath}\" is not loaded,please check.')\n",
    "        return False\n",
    "        \n",
    "    \n",
    "    #the reading for the 7th item is really slow, do some processing\n",
    "    collections[7][\"abstract\"]=preprocess(collections[7][\"abstract\"])    \n",
    "    es.indices.create(index=index, body=index_settings)\n",
    "    for item in collections: \n",
    "        doc={\"type\":item[\"type\"],\"abstract\":item[\"abstract\"]}\n",
    "        es.index(index=index, doc_type=\"_doc\", id=item[\"id\"], body=doc)\n",
    "        \n",
    "    es.indices.refresh(index)\n",
    "    count = es.cat.count(index, params={\"format\": \"json\"})\n",
    "    print(f'\"{index}\" are created in ElasticSearch, and {int(count[0][\"count\"])} items indexed.') \n",
    "    return True"
   ]
  },
  {
   "cell_type": "code",
   "execution_count": 20,
   "metadata": {},
   "outputs": [
    {
     "name": "stdout",
     "output_type": "stream",
     "text": [
      "\"dbpdiea_type_centric\" already exists in ElasticSearch, and there are 421 items.\n"
     ]
    },
    {
     "name": "stderr",
     "output_type": "stream",
     "text": [
      "C:\\Users\\junec\\AppData\\Local\\Temp/ipykernel_21744/1876355477.py:7: DeprecationWarning: Using positional arguments for APIs is deprecated and will be disabled in 8.0.0. Instead use only keyword arguments for all APIs. See https://github.com/elastic/elasticsearch-py/issues/1698 for more information\n",
      "  if es.indices.exists(index):\n",
      "C:\\Users\\junec\\AppData\\Local\\Temp/ipykernel_21744/1876355477.py:8: DeprecationWarning: Using positional arguments for APIs is deprecated and will be disabled in 8.0.0. Instead use only keyword arguments for all APIs. See https://github.com/elastic/elasticsearch-py/issues/1698 for more information\n",
      "  count = es.cat.count(index, params={\"format\": \"json\"})\n"
     ]
    },
    {
     "data": {
      "text/plain": [
       "True"
      ]
     },
     "execution_count": 20,
     "metadata": {},
     "output_type": "execute_result"
    }
   ],
   "source": [
    "index_dbpdiea_type_centric(INDEX_NAME,INDEX_SETTINGS)"
   ]
  },
  {
   "cell_type": "code",
   "execution_count": 3,
   "metadata": {},
   "outputs": [
    {
     "name": "stderr",
     "output_type": "stream",
     "text": [
      "C:\\Users\\junec\\anaconda3\\lib\\site-packages\\elasticsearch\\connection\\base.py:209: ElasticsearchWarning: Elasticsearch built-in security features are not enabled. Without authentication, your cluster could be accessible to anyone. See https://www.elastic.co/guide/en/elasticsearch/reference/7.15/security-minimal-setup.html to enable security.\n",
      "  warnings.warn(message, category=ElasticsearchWarning)\n"
     ]
    },
    {
     "data": {
      "text/plain": [
       "{'_index': 'dbpdiea_type_centric',\n",
       " '_type': '_doc',\n",
       " '_id': '419',\n",
       " '_version': 1,\n",
       " '_seq_no': 419,\n",
       " '_primary_term': 1,\n",
       " 'found': True,\n",
       " '_source': {'type': 'dbo:BoxingLeague',\n",
       "  'abstract': ' Super is a boxing tournament that is held in New Zealand  Super is owned by John McRae  who is the Managing director of VSLive  VS Live was formally known as Sky Arena  Sky ARENA previously owned by SKY Television New Zealand and VADR Media  In VADR Media acquired  of SKY ARENA shares and relaunched as VS LIVE '}}"
      ]
     },
     "execution_count": 3,
     "metadata": {},
     "output_type": "execute_result"
    }
   ],
   "source": [
    "es=Elasticsearch(timeout=120)\n",
    "es.get(index=INDEX_NAME,id=\"419\")"
   ]
  }
 ],
 "metadata": {
  "kernelspec": {
   "display_name": "Python 3",
   "language": "python",
   "name": "python3"
  },
  "language_info": {
   "codemirror_mode": {
    "name": "ipython",
    "version": 3
   },
   "file_extension": ".py",
   "mimetype": "text/x-python",
   "name": "python",
   "nbconvert_exporter": "python",
   "pygments_lexer": "ipython3",
   "version": "3.7.6"
  },
  "toc": {
   "base_numbering": 1,
   "nav_menu": {},
   "number_sections": true,
   "sideBar": true,
   "skip_h1_title": false,
   "title_cell": "Table of Contents",
   "title_sidebar": "Contents",
   "toc_cell": false,
   "toc_position": {},
   "toc_section_display": true,
   "toc_window_display": false
  }
 },
 "nbformat": 4,
 "nbformat_minor": 4
}
