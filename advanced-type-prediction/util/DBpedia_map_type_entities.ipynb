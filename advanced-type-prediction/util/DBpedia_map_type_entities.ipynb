{
 "cells": [
  {
   "cell_type": "markdown",
   "metadata": {},
   "source": [
    "**process instance_types_en.ttl, generate a dictionary, DBOtype as key, all the corresponding entities as the value**"
   ]
  },
  {
   "cell_type": "code",
   "execution_count": 1,
   "metadata": {},
   "outputs": [],
   "source": [
    "import re,os\n",
    "import json"
   ]
  },
  {
   "cell_type": "code",
   "execution_count": 2,
   "metadata": {},
   "outputs": [
    {
     "name": "stdout",
     "output_type": "stream",
     "text": [
      "500000 entities have been processed\n",
      "1000000 entities have been processed\n",
      "1500000 entities have been processed\n",
      "2000000 entities have been processed\n",
      "2500000 entities have been processed\n",
      "3000000 entities have been processed\n",
      "3500000 entities have been processed\n",
      "4000000 entities have been processed\n",
      "4500000 entities have been processed\n",
      "5000000 entities have been processed\n"
     ]
    }
   ],
   "source": [
    "#test file\n",
    "#filepath=\"../data/xaa\"\n",
    "\n",
    "filepath=\"../data/instance_types_en.ttl\"\n",
    "type_map_entities={}\n",
    "count=0\n",
    "with open(filepath, 'r', encoding='utf-8') as file: \n",
    "    for line in file:\n",
    "        count+=1\n",
    "        if count%500000==0:\n",
    "            print('{} entities have been processed'.format(count))\n",
    "        if (line is None) or (line[0] == '#'):\n",
    "            continue\n",
    "        line=line.split(' ')\n",
    "        if len(line) < 3:\n",
    "            continue\n",
    "        entity = line[0][1:-1].split('/')[-1]\n",
    "        DBOtype=line[2][1:-1].split('/')[-1]\n",
    "        if DBOtype==\"owl#Thing\":\n",
    "            continue\n",
    "        temp=type_map_entities.get(\"dbo:\"+DBOtype,[])\n",
    "        temp.append(entity)\n",
    "        type_map_entities[\"dbo:\"+DBOtype]=temp"
   ]
  },
  {
   "cell_type": "code",
   "execution_count": 3,
   "metadata": {},
   "outputs": [
    {
     "data": {
      "text/plain": [
       "6108"
      ]
     },
     "execution_count": 3,
     "metadata": {},
     "output_type": "execute_result"
    }
   ],
   "source": [
    "type_map_entities['dbo:Disease']\n",
    "len(type_map_entities['dbo:Disease'])"
   ]
  },
  {
   "cell_type": "code",
   "execution_count": 5,
   "metadata": {},
   "outputs": [],
   "source": [
    "with open(\"../data/DBpedia_map_type_entities.json\", 'w',encoding='utf-8') as f:\n",
    "  json.dump(type_map_entities, f, ensure_ascii=False)\n",
    "\n",
    "print(f'Save a dictionary as a json file, DBOtype as key, \\nall the corresponding entities as the value.\\nThe length of the dictionary is {dict_len}')"
   ]
  },
  {
   "cell_type": "code",
   "execution_count": null,
   "metadata": {},
   "outputs": [],
   "source": []
  }
 ],
 "metadata": {
  "kernelspec": {
   "display_name": "Python 3",
   "language": "python",
   "name": "python3"
  },
  "language_info": {
   "codemirror_mode": {
    "name": "ipython",
    "version": 3
   },
   "file_extension": ".py",
   "mimetype": "text/x-python",
   "name": "python",
   "nbconvert_exporter": "python",
   "pygments_lexer": "ipython3",
   "version": "3.7.6"
  },
  "toc": {
   "base_numbering": 1,
   "nav_menu": {},
   "number_sections": true,
   "sideBar": true,
   "skip_h1_title": false,
   "title_cell": "Table of Contents",
   "title_sidebar": "Contents",
   "toc_cell": false,
   "toc_position": {},
   "toc_section_display": true,
   "toc_window_display": false
  }
 },
 "nbformat": 4,
 "nbformat_minor": 4
}
