{
 "cells": [
  {
   "cell_type": "markdown",
   "metadata": {},
   "source": [
    "**generate a dictionary, DBOtype as key, all the contatenated short abstract as value**"
   ]
  },
  {
   "cell_type": "code",
   "execution_count": null,
   "metadata": {},
   "outputs": [],
   "source": [
    "import json\n",
    "from typing import Dict, List, Optional"
   ]
  },
  {
   "cell_type": "code",
   "execution_count": null,
   "metadata": {},
   "outputs": [],
   "source": [
    "def produce_map_type_abstract(load_filepath1=\"../data/DBpedia_map_type_entities.json\",\n",
    "                              load_filepath2=\"../data/DBpedia_map_entity_abstract.json\",\n",
    "                              save_path=\"../data/DBpedia_map_type_abstract.json\")->bool:\n",
    "    \"\"\"parse DBOtype with abstract of all entities hava that type and save to file\n",
    "    \n",
    "        Args:\n",
    "            load_filepath1:read file which is DBOtype ~ DBpedia entities dictionary.\n",
    "            load_filepath2:read file which is DBpedia entities ~ abstract dictionary.\n",
    "    \"\"\"\n",
    "    \n",
    "    try:\n",
    "        with open(load_filepath1, 'r',encoding='utf-8') as f:\n",
    "            data_type = json.load(f)\n",
    "        print(f'\"{load_filepath1}\" is loaded, and the length is {len(data_type)}.') \n",
    "    except:\n",
    "        print(f'\"{load_filepath1}\" is not loaded.')\n",
    "        return False\n",
    "    \n",
    "    try:\n",
    "        with open(load_filepath2, 'r', encoding='utf-8') as file:\n",
    "            data_abstract = json.load(file)\n",
    "        print(f'\"{load_filepath2}\" is loaded, and the length is {len(data_abstract)}.') \n",
    "    except:\n",
    "        print(f'\"{load_filepath2}\" is not loaded.')\n",
    "        return False\n",
    "\n",
    "    #parse type with the abstract for all the entities belong to this type\n",
    "    map_type_abstract={}\n",
    "    count=0\n",
    "    for dp_type,entities in data_type.items():\n",
    "        count+=1\n",
    "        if count==50:\n",
    "            print(f'{count} has been processed')\n",
    "        abstract=\"\"\n",
    "        for entity in entities:\n",
    "            abstract=abstract+data_abstract.get(entity,\"\")\n",
    "        map_type_abstract[dp_type]=abstract\n",
    "        \n",
    "    collections=[{\"id\":str(i),\"type\":DBOtype,\"abstract\":map_type_abstract[DBOtype]} for i,DBOtype in enumerate(map_type_abstract)]\n",
    "   \n",
    "    with open(save_path, 'w',encoding='utf-8') as f:\n",
    "        json.dump(collections, f, ensure_ascii=False)\n",
    "    print(f'Save a dictionary as a json file, DBOtype as key, abstract as the value. The length of the dictionary is len(collections)')\n",
    "        \n",
    "    return True"
   ]
  },
  {
   "cell_type": "code",
   "execution_count": null,
   "metadata": {},
   "outputs": [],
   "source": [
    "produce_map_type_abstract()"
   ]
  }
 ],
 "metadata": {
  "kernelspec": {
   "display_name": "Python 3",
   "language": "python",
   "name": "python3"
  },
  "language_info": {
   "codemirror_mode": {
    "name": "ipython",
    "version": 3
   },
   "file_extension": ".py",
   "mimetype": "text/x-python",
   "name": "python",
   "nbconvert_exporter": "python",
   "pygments_lexer": "ipython3",
   "version": "3.7.6"
  },
  "toc": {
   "base_numbering": 1,
   "nav_menu": {},
   "number_sections": true,
   "sideBar": true,
   "skip_h1_title": false,
   "title_cell": "Table of Contents",
   "title_sidebar": "Contents",
   "toc_cell": false,
   "toc_position": {},
   "toc_section_display": true,
   "toc_window_display": false
  }
 },
 "nbformat": 4,
 "nbformat_minor": 5
}
