{
 "cells": [
  {
   "cell_type": "code",
   "execution_count": 1,
   "metadata": {},
   "outputs": [],
   "source": [
    "import re,os\n",
    "import json"
   ]
  },
  {
   "cell_type": "code",
   "execution_count": 2,
   "metadata": {},
   "outputs": [],
   "source": [
    "linePattern = re.compile(r'<http://dbpedia.org/resource/([^>]*)> <[^>]*> <http://dbpedia.org/ontology/([^>]*)>.*',\n",
    "                         re.MULTILINE | re.DOTALL)"
   ]
  },
  {
   "cell_type": "code",
   "execution_count": 3,
   "metadata": {},
   "outputs": [],
   "source": [
    "# #test file\n",
    "# #filepath=\"../data/xaa\"\n",
    "# filepath=\"../data/instance_types_en.ttl\"\n",
    "# type_map_entities={}\n",
    "# count=0\n",
    "# with open(filepath, 'r', encoding='utf-8') as file: \n",
    "# #with os.popen('bzip2 -cd ' + filename) as file: \n",
    "#     for line in file:\n",
    "#         if count%100000==0:\n",
    "#             print('{} entities have been processed'.format(count))\n",
    "#         m = linePattern.match(str(line))\n",
    "#         count+=1\n",
    "#         if m:\n",
    "#             #print(m.group(1),m.group(2))\n",
    "#             #subject = m.group(1).replace('_', ' ')\n",
    "#             #DBOtype = m.group(2).replace('_', ' ')\n",
    "#             subject = m.group(1)  \n",
    "#             DBOtype = m.group(2)\n",
    "#             #print(\"----------****subject,type:\",subject,DBOtype)\n",
    "#             temp=type_map_entities.get(\"dbo:\"+DBOtype,[])\n",
    "#             temp.append(subject)\n",
    "#             type_map_entities[\"dbo:\"+DBOtype]=temp"
   ]
  },
  {
   "cell_type": "code",
   "execution_count": 4,
   "metadata": {},
   "outputs": [],
   "source": [
    "#test file\n",
    "filepath=\"../data/xaa\"\n",
    "#filepath=\"../data/instance_types_en.ttl\"\n",
    "type_map_entities={}\n",
    "count=0\n",
    "with open(filepath, 'r', encoding='utf-8') as file: \n",
    "#with os.popen('bzip2 -cd ' + filename) as file: \n",
    "    for line in file:\n",
    "        count+=1\n",
    "        if count%500000==0:\n",
    "            print('{} entities have been processed'.format(count))\n",
    "        if (line is None) or (line[0] == '#'):\n",
    "            continue\n",
    "        line=line.split(' ')\n",
    "        if len(line) < 3:\n",
    "            continue\n",
    "        entity = line[0][1:-1].split('/')[-1]\n",
    "        DBOtype=line[2][1:-1].split('/')[-1]\n",
    "        if DBOtype==\"owl#Thing\":\n",
    "            continue\n",
    "        #print(\"----------****entity,type:\",entity,DBOtype)\n",
    "        temp=type_map_entities.get(\"dbo:\"+DBOtype,[])\n",
    "        temp.append(entity)\n",
    "        type_map_entities[\"dbo:\"+DBOtype]=temp"
   ]
  },
  {
   "cell_type": "code",
   "execution_count": 5,
   "metadata": {},
   "outputs": [],
   "source": [
    "# i=0\n",
    "# for key, value in type_map_entities.items():\n",
    "#     print(key)\n",
    "#     print(value)\n",
    "#     print(\"---------------\")\n",
    "#     i+=1\n",
    "#     if i==10:\n",
    "#         break"
   ]
  },
  {
   "cell_type": "code",
   "execution_count": 6,
   "metadata": {},
   "outputs": [
    {
     "data": {
      "text/plain": [
       "137"
      ]
     },
     "execution_count": 6,
     "metadata": {},
     "output_type": "execute_result"
    }
   ],
   "source": [
    "type_map_entities['dbo:Disease']\n",
    "len(type_map_entities['dbo:Disease'])"
   ]
  },
  {
   "cell_type": "code",
   "execution_count": 7,
   "metadata": {},
   "outputs": [
    {
     "data": {
      "text/plain": [
       "266"
      ]
     },
     "execution_count": 7,
     "metadata": {},
     "output_type": "execute_result"
    }
   ],
   "source": [
    "len(list(type_map_entities.keys()))"
   ]
  },
  {
   "cell_type": "code",
   "execution_count": 8,
   "metadata": {},
   "outputs": [],
   "source": [
    "with open(\"../data/test_DBpedia_map_type_entities.json\", 'w',encoding='utf-8') as f:\n",
    "  json.dump(type_map_entities, f, ensure_ascii=False)"
   ]
  },
  {
   "cell_type": "code",
   "execution_count": null,
   "metadata": {},
   "outputs": [],
   "source": []
  }
 ],
 "metadata": {
  "kernelspec": {
   "display_name": "Python 3 (ipykernel)",
   "language": "python",
   "name": "python3"
  },
  "language_info": {
   "codemirror_mode": {
    "name": "ipython",
    "version": 3
   },
   "file_extension": ".py",
   "mimetype": "text/x-python",
   "name": "python",
   "nbconvert_exporter": "python",
   "pygments_lexer": "ipython3",
   "version": "3.8.4"
  },
  "toc": {
   "base_numbering": 1,
   "nav_menu": {},
   "number_sections": true,
   "sideBar": true,
   "skip_h1_title": false,
   "title_cell": "Table of Contents",
   "title_sidebar": "Contents",
   "toc_cell": false,
   "toc_position": {},
   "toc_section_display": true,
   "toc_window_display": false
  }
 },
 "nbformat": 4,
 "nbformat_minor": 4
}
