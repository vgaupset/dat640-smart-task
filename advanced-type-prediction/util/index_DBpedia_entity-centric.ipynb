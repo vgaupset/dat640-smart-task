{
 "cells": [
  {
   "cell_type": "code",
   "execution_count": 1,
   "metadata": {},
   "outputs": [],
   "source": [
    "import json\n",
    "import pickle\n",
    "from helper_function import preprocess, Indexer\n",
    "from elasticsearch import Elasticsearch"
   ]
  },
  {
   "cell_type": "code",
   "execution_count": null,
   "metadata": {},
   "outputs": [],
   "source": [
    "#conda install elasticsearch"
   ]
  },
  {
   "cell_type": "markdown",
   "metadata": {},
   "source": [
    "**read from short_abstracts_en.ttl and covert to map with key as the name of entity, value as abstract**"
   ]
  },
  {
   "cell_type": "code",
   "execution_count": 4,
   "metadata": {},
   "outputs": [
    {
     "name": "stderr",
     "output_type": "stream",
     "text": [
      "c:\\users\\junec\\appdata\\local\\programs\\python\\python38-32\\lib\\site-packages\\elasticsearch\\connection\\base.py:209: ElasticsearchWarning: Elasticsearch built-in security features are not enabled. Without authentication, your cluster could be accessible to anyone. See https://www.elastic.co/guide/en/elasticsearch/reference/7.15/security-minimal-setup.html to enable security.\n",
      "  warnings.warn(message, category=ElasticsearchWarning)\n"
     ]
    },
    {
     "data": {
      "text/plain": [
       "{'name': 'LAPTOP-ADBLIUPR',\n",
       " 'cluster_name': 'elasticsearch',\n",
       " 'cluster_uuid': '5VELmBwJTk-urTuhZdTgew',\n",
       " 'version': {'number': '7.15.1',\n",
       "  'build_flavor': 'default',\n",
       "  'build_type': 'zip',\n",
       "  'build_hash': '83c34f456ae29d60e94d886e455e6a3409bba9ed',\n",
       "  'build_date': '2021-10-07T21:56:19.031608185Z',\n",
       "  'build_snapshot': False,\n",
       "  'lucene_version': '8.9.0',\n",
       "  'minimum_wire_compatibility_version': '6.8.0',\n",
       "  'minimum_index_compatibility_version': '6.0.0-beta1'},\n",
       " 'tagline': 'You Know, for Search'}"
      ]
     },
     "execution_count": 4,
     "metadata": {},
     "output_type": "execute_result"
    }
   ],
   "source": [
    "INDEX_NAME = \"dbpedia_entity_centric\"\n",
    "INDEX_SETTINGS = {\n",
    "    \"mappings\": {\n",
    "        \"properties\": {\n",
    "            \"entity\": {\n",
    "                \"type\": \"text\",\n",
    "                \"term_vector\": \"yes\",\n",
    "                \"analyzer\": \"english\",\n",
    "            },\n",
    "            \"abstract\": {\n",
    "                \"type\": \"text\",\n",
    "                \"term_vector\": \"yes\",\n",
    "                \"analyzer\": \"english\",\n",
    "            },\n",
    "\n",
    "        }\n",
    "    }\n",
    "}\n",
    "es = Elasticsearch()\n",
    "es.info()"
   ]
  },
  {
   "cell_type": "markdown",
   "metadata": {},
   "source": [
    "**if indexing finished, do not run the following cell**"
   ]
  },
  {
   "cell_type": "code",
   "execution_count": 5,
   "metadata": {},
   "outputs": [
    {
     "name": "stderr",
     "output_type": "stream",
     "text": [
      "C:\\Users\\junec\\AppData\\Local\\Temp/ipykernel_16056/3275183715.py:27: DeprecationWarning: The 'body' parameter is deprecated for the 'index' API and will be removed in a future version. Instead use the 'document' parameter. See https://github.com/elastic/elasticsearch-py/issues/1698 for more information\n",
      "  es.index(index=INDEX_NAME, doc_type=\"_doc\", id=str(i), body=doc)\n"
     ]
    },
    {
     "name": "stdout",
     "output_type": "stream",
     "text": [
      "-----------i 0\n",
      "-----------j 100000\n",
      "-----------i 100000\n",
      "-----------j 200000\n",
      "-----------i 200000\n",
      "-----------j 300000\n",
      "-----------i 300000\n",
      "-----------j 400000\n",
      "-----------i 400000\n",
      "-----------j 500000\n",
      "-----------i 500000\n",
      "-----------j 600000\n",
      "-----------i 600000\n",
      "-----------j 700000\n",
      "-----------i 700000\n",
      "-----------j 800000\n",
      "-----------i 800000\n",
      "-----------j 900000\n",
      "-----------i 900000\n",
      "-----------j 1000000\n",
      "-----------i 1000000\n",
      "-----------j 1100000\n",
      "-----------i 1100000\n",
      "-----------j 1200000\n",
      "-----------i 1200000\n",
      "-----------j 1300000\n",
      "-----------i 1300000\n",
      "-----------j 1400000\n",
      "-----------i 1400000\n",
      "-----------j 1500000\n",
      "-----------i 1500000\n",
      "-----------j 1600000\n",
      "-----------i 1600000\n",
      "-----------j 1700000\n",
      "-----------i 1700000\n",
      "-----------j 1800000\n",
      "-----------i 1800000\n",
      "-----------j 1900000\n",
      "-----------i 1900000\n",
      "-----------j 2000000\n",
      "-----------i 2000000\n",
      "-----------j 2100000\n",
      "-----------i 2100000\n",
      "-----------j 2200000\n",
      "-----------i 2200000\n",
      "-----------j 2300000\n",
      "-----------i 2300000\n",
      "-----------j 2400000\n",
      "-----------i 2400000\n",
      "-----------j 2500000\n",
      "-----------i 2500000\n",
      "-----------j 2600000\n",
      "-----------i 2600000\n",
      "-----------j 2700000\n",
      "-----------i 2700000\n",
      "-----------j 2800000\n",
      "-----------i 2800000\n",
      "-----------j 2900000\n",
      "-----------i 2900000\n",
      "-----------j 3000000\n",
      "-----------i 3000000\n",
      "-----------j 3100000\n",
      "-----------i 3100000\n",
      "-----------j 3200000\n",
      "-----------i 3200000\n",
      "-----------j 3300000\n",
      "-----------i 3300000\n",
      "-----------j 3400000\n",
      "-----------i 3400000\n",
      "-----------j 3500000\n",
      "-----------i 3500000\n",
      "-----------j 3600000\n",
      "-----------i 3600000\n",
      "-----------j 3700000\n",
      "-----------i 3700000\n",
      "-----------j 3800000\n",
      "-----------i 3800000\n",
      "-----------j 3900000\n",
      "-----------i 3900000\n",
      "-----------j 4000000\n",
      "-----------i 4000000\n",
      "-----------j 4100000\n",
      "-----------i 4100000\n",
      "-----------j 4200000\n",
      "-----------i 4200000\n",
      "-----------j 4300000\n",
      "-----------i 4300000\n",
      "-----------j 4400000\n",
      "-----------i 4400000\n",
      "-----------j 4500000\n",
      "-----------i 4500000\n",
      "-----------j 4600000\n",
      "-----------i 4600000\n",
      "-----------j 4700000\n",
      "-----------i 4700000\n",
      "-----------j 4800000\n",
      "-----------i 4800000\n",
      "-----------j 4900000\n",
      "-----------i 4900000\n",
      "----i 4935279\n",
      "----j 4935281\n"
     ]
    }
   ],
   "source": [
    "#test file\n",
    "#filepath=\"../data/xaa_small_abs\"\n",
    "\n",
    "filepath=\"../data/short_abstracts_en.ttl\"\n",
    "entity_map_abstract={}\n",
    "#collections=[]\n",
    "i=0\n",
    "j=0\n",
    "with open(filepath, 'r', encoding='utf-8') as file: \n",
    "    for line in file:\n",
    "        j+=1\n",
    "        if j%100000==0:\n",
    "            print(\"-----------j\",j)\n",
    "        if (line is None) or (line[0] == '#'):\n",
    "            continue\n",
    "        #line = line.lower().strip()[:-5].replace('/>', '>').split(' ')\n",
    "        line=line.split(' ')\n",
    "        if len(line) < 3:\n",
    "            continue\n",
    "        entity = line[0][1:-1].split('/')[-1]\n",
    "        entity=preprocess(entity)\n",
    "        line[-2]=line[-2][:-4]\n",
    "        abstract = preprocess(' '.join(line[2:-1]).replace('\\\\', ''))\n",
    "        #entity_map_abstract[entity]=abstract\n",
    "        #collections.append({\"id\":str(i),\"entity\":entity,\"abstract\":abstract})\n",
    "        doc={\"entity\":entity,\"abstract\":abstract}\n",
    "        es.index(index=INDEX_NAME, doc_type=\"_doc\", id=str(i), body=doc)\n",
    "        if i%100000==0:\n",
    "            print(\"-----------i\",i)\n",
    "        i+=1\n",
    "print(\"----i\",i)\n",
    "print(\"----j\",j)"
   ]
  },
  {
   "cell_type": "code",
   "execution_count": null,
   "metadata": {},
   "outputs": [],
   "source": [
    "es = Elasticsearch()\n",
    "es.info()"
   ]
  },
  {
   "cell_type": "code",
   "execution_count": 6,
   "metadata": {},
   "outputs": [
    {
     "name": "stderr",
     "output_type": "stream",
     "text": [
      "C:\\Users\\junec\\AppData\\Local\\Temp/ipykernel_16056/2731474974.py:2: DeprecationWarning: Using positional arguments for APIs is deprecated and will be disabled in 8.0.0. Instead use only keyword arguments for all APIs. See https://github.com/elastic/elasticsearch-py/issues/1698 for more information\n",
      "  count = es.cat.count(INDEX_NAME, params={\"format\": \"json\"})\n"
     ]
    },
    {
     "name": "stdout",
     "output_type": "stream",
     "text": [
      "4935279\n"
     ]
    },
    {
     "data": {
      "text/plain": [
       "{'_index': 'dbpedia_entity_centric',\n",
       " '_type': '_doc',\n",
       " '_id': '15',\n",
       " '_version': 3,\n",
       " '_seq_no': 12013,\n",
       " '_primary_term': 1,\n",
       " 'found': True,\n",
       " '_source': {'entity': 'Appellate procedure in the United States',\n",
       "  'abstract': ' United States appellate procedure involves the rules and regulations for filing appeals in state courts and federal courts  The nature of an appeal can vary greatly depending on the type of case and the rules of the court in the jurisdiction where the case was prosecuted  There are many types of standard of review for appeals  such as de novo and abuse of discretion  However  most appeals begin when a party files a petition for review to a higher court for the purpose of overturning the lower court s decision '}}"
      ]
     },
     "execution_count": 6,
     "metadata": {},
     "output_type": "execute_result"
    }
   ],
   "source": [
    "\n",
    "count = es.cat.count(INDEX_NAME, params={\"format\": \"json\"})\n",
    "print(int(count[0][\"count\"]))\n",
    "es.get(index=INDEX_NAME,id=\"15\")"
   ]
  },
  {
   "cell_type": "code",
   "execution_count": 7,
   "metadata": {},
   "outputs": [
    {
     "data": {
      "text/plain": [
       "[{'_index': 'dbpedia_entity_centric',\n",
       "  '_type': '_doc',\n",
       "  '_id': '714513',\n",
       "  '_score': 13.31942}]"
      ]
     },
     "execution_count": 7,
     "metadata": {},
     "output_type": "execute_result"
    }
   ],
   "source": [
    "term=\"appellate\" \n",
    "field=\"abstract\"\n",
    "hits = (\n",
    "        es.search(\n",
    "            index=INDEX_NAME,\n",
    "            query={\"match\": {field: term}},\n",
    "            _source=False,\n",
    "            size=1,\n",
    "        )\n",
    "        .get(\"hits\", {})\n",
    "        .get(\"hits\", {})\n",
    "    )\n",
    "hits"
   ]
  }
 ],
 "metadata": {
  "kernelspec": {
   "display_name": "Python 3 (ipykernel)",
   "language": "python",
   "name": "python3"
  },
  "language_info": {
   "codemirror_mode": {
    "name": "ipython",
    "version": 3
   },
   "file_extension": ".py",
   "mimetype": "text/x-python",
   "name": "python",
   "nbconvert_exporter": "python",
   "pygments_lexer": "ipython3",
   "version": "3.8.4"
  },
  "toc": {
   "base_numbering": 1,
   "nav_menu": {},
   "number_sections": true,
   "sideBar": true,
   "skip_h1_title": false,
   "title_cell": "Table of Contents",
   "title_sidebar": "Contents",
   "toc_cell": false,
   "toc_position": {},
   "toc_section_display": true,
   "toc_window_display": false
  }
 },
 "nbformat": 4,
 "nbformat_minor": 4
}
