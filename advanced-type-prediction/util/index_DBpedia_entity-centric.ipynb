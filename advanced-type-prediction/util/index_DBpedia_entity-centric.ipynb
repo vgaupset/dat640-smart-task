{
 "cells": [
  {
   "cell_type": "markdown",
   "metadata": {},
   "source": [
    "**Index the DBpedia entities into elasticSearch based on ENTITY CENTRIC method**"
   ]
  },
  {
   "cell_type": "code",
   "execution_count": 1,
   "metadata": {},
   "outputs": [],
   "source": [
    "import json\n",
    "import pickle\n",
    "from helper_function import preprocess, Indexer\n",
    "from elasticsearch import Elasticsearch\n",
    "from typing import Dict, List, Optional"
   ]
  },
  {
   "cell_type": "code",
   "execution_count": 2,
   "metadata": {},
   "outputs": [],
   "source": [
    "#%run DBpedia_map_entity_abstract.ipynb"
   ]
  },
  {
   "cell_type": "code",
   "execution_count": 3,
   "metadata": {},
   "outputs": [],
   "source": [
    "#conda install elasticsearch"
   ]
  },
  {
   "cell_type": "code",
   "execution_count": 4,
   "metadata": {},
   "outputs": [],
   "source": [
    "INDEX_NAME = \"dbpedia_entity_centric\"\n",
    "INDEX_SETTINGS = {\n",
    "    \"mappings\": {\n",
    "        \"properties\": {\n",
    "            \"entity\": {\n",
    "                \"type\": \"text\",\n",
    "                \"term_vector\": \"yes\",\n",
    "                \"analyzer\": \"english\",\n",
    "            },\n",
    "            \"abstract\": {\n",
    "                \"type\": \"text\",\n",
    "                \"term_vector\": \"yes\",\n",
    "                \"analyzer\": \"english\",\n",
    "            },\n",
    "\n",
    "        }\n",
    "    }\n",
    "}\n"
   ]
  },
  {
   "cell_type": "code",
   "execution_count": 28,
   "metadata": {},
   "outputs": [],
   "source": [
    "def index_dbpdiea_type_centric(index:str, index_settings:Dict,reset=False,\n",
    "                                   filepath=\"../data/short_abstracts_en.ttl\",\n",
    "                                   es=Elasticsearch())->bool:\n",
    "    \"\"\"\n",
    "    set reset to be True, if want to reset and re-index into the elasticSearch\n",
    "    \"\"\"\n",
    "    es.info()\n",
    "    if reset and es.indices.exists(index):\n",
    "        es.indices.delete(index=index)\n",
    "        print(f'\"{index}\" is reset.')\n",
    "        \n",
    "    if es.indices.exists(index):\n",
    "        count = es.cat.count(index, params={\"format\": \"json\"})\n",
    "        print(f'\"{index}\" already exists in ElasticSearch, and there are {int(count[0][\"count\"])} items.') \n",
    "        return True\n",
    "    try:\n",
    "        file_object = open(filepath,\"r\",encoding=\"utf8\") \n",
    "        file = file_object.read()\n",
    "#         with open(filepath, 'r', encoding='utf-8') as f: \n",
    "#             file=f\n",
    "        print(f'\"{filepath}\" is loaded.') \n",
    " \n",
    "    except FileNotFoundError:\n",
    "        print(f'\"{filepath}\" is not found.')\n",
    "        return False\n",
    "    \n",
    "    \n",
    "    #process file and index into elasticSearch\n",
    "    es.indices.create(index=index, body=index_settings)\n",
    "    i=0\n",
    "    j=0\n",
    "    with open(filepath, 'r', encoding='utf-8') as file: \n",
    "        for line in file:\n",
    "            j+=1\n",
    "            if j%100000==0:\n",
    "                print(\"-----------j\",j)\n",
    "            if (line is None) or (line[0] == '#'):\n",
    "                continue\n",
    "            #line = line.lower().strip()[:-5].replace('/>', '>').split(' ')\n",
    "            line=line.split(' ')\n",
    "            if len(line) < 3:\n",
    "                continue\n",
    "            entity = line[0][1:-1].split('/')[-1]\n",
    "            entity=preprocess(entity)\n",
    "            line[-2]=line[-2][:-4]\n",
    "            abstract = preprocess(' '.join(line[2:-1]).replace('\\\\', ''))\n",
    "            doc={\"entity\":entity,\"abstract\":abstract}\n",
    "            es.index(index=index, doc_type=\"_doc\", id=str(i), body=doc)\n",
    "            i+=1\n",
    "            \n",
    "    es.indices.refresh(index)\n",
    "    count = es.cat.count(index, params={\"format\": \"json\"})          \n",
    "    print(f'{j} entities are processed, \\n{count[0][\"count\"]} entities are indexed into elastic search')\n",
    "    return True\n"
   ]
  },
  {
   "cell_type": "code",
   "execution_count": 29,
   "metadata": {},
   "outputs": [
    {
     "name": "stderr",
     "output_type": "stream",
     "text": [
      "C:\\Users\\junec\\AppData\\Local\\Temp/ipykernel_13540/3375190284.py:8: DeprecationWarning: Using positional arguments for APIs is deprecated and will be disabled in 8.0.0. Instead use only keyword arguments for all APIs. See https://github.com/elastic/elasticsearch-py/issues/1698 for more information\n",
      "  if reset and es.indices.exists(index):\n"
     ]
    },
    {
     "name": "stdout",
     "output_type": "stream",
     "text": [
      "\"test_entity_centric\" is reset.\n",
      "\"../data/xaa_small_abs\" is loaded.\n"
     ]
    },
    {
     "name": "stderr",
     "output_type": "stream",
     "text": [
      "C:\\Users\\junec\\AppData\\Local\\Temp/ipykernel_13540/3375190284.py:12: DeprecationWarning: Using positional arguments for APIs is deprecated and will be disabled in 8.0.0. Instead use only keyword arguments for all APIs. See https://github.com/elastic/elasticsearch-py/issues/1698 for more information\n",
      "  if es.indices.exists(index):\n",
      "C:\\Users\\junec\\AppData\\Local\\Temp/ipykernel_13540/3375190284.py:29: DeprecationWarning: The 'body' parameter is deprecated for the 'create' API and will be removed in a future version. Instead use API parameters directly. See https://github.com/elastic/elasticsearch-py/issues/1698 for more information\n",
      "  es.indices.create(index=index, body=index_settings)\n",
      "C:\\Users\\junec\\AppData\\Local\\Temp/ipykernel_13540/3375190284.py:48: DeprecationWarning: The 'body' parameter is deprecated for the 'index' API and will be removed in a future version. Instead use the 'document' parameter. See https://github.com/elastic/elasticsearch-py/issues/1698 for more information\n",
      "  es.index(index=index, doc_type=\"_doc\", id=str(i), body=doc)\n",
      "C:\\Users\\junec\\AppData\\Local\\Temp/ipykernel_13540/3375190284.py:51: DeprecationWarning: Using positional arguments for APIs is deprecated and will be disabled in 8.0.0. Instead use only keyword arguments for all APIs. See https://github.com/elastic/elasticsearch-py/issues/1698 for more information\n",
      "  es.indices.refresh(index)\n",
      "C:\\Users\\junec\\AppData\\Local\\Temp/ipykernel_13540/3375190284.py:52: DeprecationWarning: Using positional arguments for APIs is deprecated and will be disabled in 8.0.0. Instead use only keyword arguments for all APIs. See https://github.com/elastic/elasticsearch-py/issues/1698 for more information\n",
      "  count = es.cat.count(index, params={\"format\": \"json\"})\n"
     ]
    },
    {
     "name": "stdout",
     "output_type": "stream",
     "text": [
      "6000 entities are processed, \n",
      "5999 entities are indexed into elastic search\n"
     ]
    },
    {
     "data": {
      "text/plain": [
       "{'_index': 'test_entity_centric',\n",
       " '_type': '_doc',\n",
       " '_id': '15',\n",
       " '_version': 1,\n",
       " '_seq_no': 15,\n",
       " '_primary_term': 1,\n",
       " 'found': True,\n",
       " '_source': {'entity': 'Appellate procedure in the United States',\n",
       "  'abstract': ' United States appellate procedure involves the rules and regulations for filing appeals in state courts and federal courts  The nature of an appeal can vary greatly depending on the type of case and the rules of the court in the jurisdiction where the case was prosecuted  There are many types of standard of review for appeals  such as de novo and abuse of discretion  However  most appeals begin when a party files a petition for review to a higher court for the purpose of overturning the lower court s decision '}}"
      ]
     },
     "execution_count": 29,
     "metadata": {},
     "output_type": "execute_result"
    }
   ],
   "source": [
    "#test with small file\n",
    "index=\"test_entity_centric\"\n",
    "index_settings=INDEX_SETTINGS\n",
    "filepath=\"../data/xaa_small_abs\"\n",
    "index_dbpdiea_type_centric(index, index_settings,\n",
    "                           reset=True,\n",
    "                           filepath=filepath,\n",
    "                           es=Elasticsearch())\n",
    "es = Elasticsearch()\n",
    "es.info()\n",
    "es.get(index=index,id=\"15\")"
   ]
  },
  {
   "cell_type": "code",
   "execution_count": 5,
   "metadata": {},
   "outputs": [
    {
     "name": "stderr",
     "output_type": "stream",
     "text": [
      "C:\\Users\\junec\\AppData\\Local\\Temp/ipykernel_16056/3275183715.py:27: DeprecationWarning: The 'body' parameter is deprecated for the 'index' API and will be removed in a future version. Instead use the 'document' parameter. See https://github.com/elastic/elasticsearch-py/issues/1698 for more information\n",
      "  es.index(index=INDEX_NAME, doc_type=\"_doc\", id=str(i), body=doc)\n"
     ]
    },
    {
     "name": "stdout",
     "output_type": "stream",
     "text": [
      "-----------i 0\n",
      "-----------j 100000\n",
      "-----------i 100000\n",
      "-----------j 200000\n",
      "-----------i 200000\n",
      "-----------j 300000\n",
      "-----------i 300000\n",
      "-----------j 400000\n",
      "-----------i 400000\n",
      "-----------j 500000\n",
      "-----------i 500000\n",
      "-----------j 600000\n",
      "-----------i 600000\n",
      "-----------j 700000\n",
      "-----------i 700000\n",
      "-----------j 800000\n",
      "-----------i 800000\n",
      "-----------j 900000\n",
      "-----------i 900000\n",
      "-----------j 1000000\n",
      "-----------i 1000000\n",
      "-----------j 1100000\n",
      "-----------i 1100000\n",
      "-----------j 1200000\n",
      "-----------i 1200000\n",
      "-----------j 1300000\n",
      "-----------i 1300000\n",
      "-----------j 1400000\n",
      "-----------i 1400000\n",
      "-----------j 1500000\n",
      "-----------i 1500000\n",
      "-----------j 1600000\n",
      "-----------i 1600000\n",
      "-----------j 1700000\n",
      "-----------i 1700000\n",
      "-----------j 1800000\n",
      "-----------i 1800000\n",
      "-----------j 1900000\n",
      "-----------i 1900000\n",
      "-----------j 2000000\n",
      "-----------i 2000000\n",
      "-----------j 2100000\n",
      "-----------i 2100000\n",
      "-----------j 2200000\n",
      "-----------i 2200000\n",
      "-----------j 2300000\n",
      "-----------i 2300000\n",
      "-----------j 2400000\n",
      "-----------i 2400000\n",
      "-----------j 2500000\n",
      "-----------i 2500000\n",
      "-----------j 2600000\n",
      "-----------i 2600000\n",
      "-----------j 2700000\n",
      "-----------i 2700000\n",
      "-----------j 2800000\n",
      "-----------i 2800000\n",
      "-----------j 2900000\n",
      "-----------i 2900000\n",
      "-----------j 3000000\n",
      "-----------i 3000000\n",
      "-----------j 3100000\n",
      "-----------i 3100000\n",
      "-----------j 3200000\n",
      "-----------i 3200000\n",
      "-----------j 3300000\n",
      "-----------i 3300000\n",
      "-----------j 3400000\n",
      "-----------i 3400000\n",
      "-----------j 3500000\n",
      "-----------i 3500000\n",
      "-----------j 3600000\n",
      "-----------i 3600000\n",
      "-----------j 3700000\n",
      "-----------i 3700000\n",
      "-----------j 3800000\n",
      "-----------i 3800000\n",
      "-----------j 3900000\n",
      "-----------i 3900000\n",
      "-----------j 4000000\n",
      "-----------i 4000000\n",
      "-----------j 4100000\n",
      "-----------i 4100000\n",
      "-----------j 4200000\n",
      "-----------i 4200000\n",
      "-----------j 4300000\n",
      "-----------i 4300000\n",
      "-----------j 4400000\n",
      "-----------i 4400000\n",
      "-----------j 4500000\n",
      "-----------i 4500000\n",
      "-----------j 4600000\n",
      "-----------i 4600000\n",
      "-----------j 4700000\n",
      "-----------i 4700000\n",
      "-----------j 4800000\n",
      "-----------i 4800000\n",
      "-----------j 4900000\n",
      "-----------i 4900000\n",
      "----i 4935279\n",
      "----j 4935281\n"
     ]
    }
   ],
   "source": [
    "filepath=\"../data/short_abstracts_en.ttl\"\n",
    "index_dbpdiea_type_centric(index=INDEX_NAME, index_settings=INDEX_SETTINGS,\n",
    "                           reset=False,\n",
    "                           filepath=filepath,\n",
    "                           es=Elasticsearch())"
   ]
  },
  {
   "cell_type": "code",
   "execution_count": 27,
   "metadata": {},
   "outputs": [
    {
     "name": "stdout",
     "output_type": "stream",
     "text": [
      "\"dbpedia_entity_centric\" already exists in ElasticSearch, and there are 4935279 items.\n"
     ]
    },
    {
     "name": "stderr",
     "output_type": "stream",
     "text": [
      "C:\\Users\\junec\\AppData\\Local\\Temp/ipykernel_13540/2749173149.py:12: DeprecationWarning: Using positional arguments for APIs is deprecated and will be disabled in 8.0.0. Instead use only keyword arguments for all APIs. See https://github.com/elastic/elasticsearch-py/issues/1698 for more information\n",
      "  if es.indices.exists(index):\n",
      "C:\\Users\\junec\\AppData\\Local\\Temp/ipykernel_13540/2749173149.py:13: DeprecationWarning: Using positional arguments for APIs is deprecated and will be disabled in 8.0.0. Instead use only keyword arguments for all APIs. See https://github.com/elastic/elasticsearch-py/issues/1698 for more information\n",
      "  count = es.cat.count(index, params={\"format\": \"json\"})\n"
     ]
    },
    {
     "data": {
      "text/plain": [
       "{'_index': 'dbpedia_entity_centric',\n",
       " '_type': '_doc',\n",
       " '_id': '15',\n",
       " '_version': 3,\n",
       " '_seq_no': 12013,\n",
       " '_primary_term': 1,\n",
       " 'found': True,\n",
       " '_source': {'entity': 'Appellate procedure in the United States',\n",
       "  'abstract': ' United States appellate procedure involves the rules and regulations for filing appeals in state courts and federal courts  The nature of an appeal can vary greatly depending on the type of case and the rules of the court in the jurisdiction where the case was prosecuted  There are many types of standard of review for appeals  such as de novo and abuse of discretion  However  most appeals begin when a party files a petition for review to a higher court for the purpose of overturning the lower court s decision '}}"
      ]
     },
     "execution_count": 27,
     "metadata": {},
     "output_type": "execute_result"
    }
   ],
   "source": [
    "filepath=\"../data/short_abstracts_en.ttl\"\n",
    "index_dbpdiea_type_centric(index=INDEX_NAME, index_settings=INDEX_SETTINGS,\n",
    "                           reset=False,\n",
    "                           filepath=filepath,\n",
    "                           es=Elasticsearch())\n",
    "es = Elasticsearch()\n",
    "es.info()\n",
    "es.get(index=INDEX_NAME,id=\"15\")"
   ]
  },
  {
   "cell_type": "code",
   "execution_count": 7,
   "metadata": {},
   "outputs": [
    {
     "data": {
      "text/plain": [
       "[{'_index': 'dbpedia_entity_centric',\n",
       "  '_type': '_doc',\n",
       "  '_id': '714513',\n",
       "  '_score': 13.31942}]"
      ]
     },
     "execution_count": 7,
     "metadata": {},
     "output_type": "execute_result"
    }
   ],
   "source": [
    "term=\"appellate\" \n",
    "field=\"abstract\"\n",
    "hits = (\n",
    "        es.search(\n",
    "            index=INDEX_NAME,\n",
    "            query={\"match\": {field: term}},\n",
    "            _source=False,\n",
    "            size=1,\n",
    "        )\n",
    "        .get(\"hits\", {})\n",
    "        .get(\"hits\", {})\n",
    "    )\n",
    "hits"
   ]
  }
 ],
 "metadata": {
  "kernelspec": {
   "display_name": "Python 3 (ipykernel)",
   "language": "python",
   "name": "python3"
  },
  "language_info": {
   "codemirror_mode": {
    "name": "ipython",
    "version": 3
   },
   "file_extension": ".py",
   "mimetype": "text/x-python",
   "name": "python",
   "nbconvert_exporter": "python",
   "pygments_lexer": "ipython3",
   "version": "3.8.4"
  },
  "toc": {
   "base_numbering": 1,
   "nav_menu": {},
   "number_sections": true,
   "sideBar": true,
   "skip_h1_title": false,
   "title_cell": "Table of Contents",
   "title_sidebar": "Contents",
   "toc_cell": false,
   "toc_position": {},
   "toc_section_display": true,
   "toc_window_display": false
  }
 },
 "nbformat": 4,
 "nbformat_minor": 4
}
