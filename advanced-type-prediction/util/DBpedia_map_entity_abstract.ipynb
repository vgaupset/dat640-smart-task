{
 "cells": [
  {
   "cell_type": "code",
   "execution_count": 9,
   "metadata": {},
   "outputs": [],
   "source": [
    "import json\n",
    "import pickle\n",
    "from helper_function import preprocess"
   ]
  },
  {
   "cell_type": "markdown",
   "metadata": {},
   "source": [
    "**read from short_abstracts_en.ttl and covert to map with the name of entity as key, abstract as value**"
   ]
  },
  {
   "cell_type": "code",
   "execution_count": 5,
   "metadata": {},
   "outputs": [],
   "source": [
    "#test small file\n",
    "#filepath=\"../data/xaa_small_abs\"\n",
    "\n",
    "filepath=\"../data/short_abstracts_en.ttl\"\n",
    "entity_map_abstract={}\n",
    "count=0\n",
    "with open(filepath, 'r', encoding='utf-8') as file: \n",
    "    for line in file:\n",
    "        count+=1\n",
    "        if count%200000==0:\n",
    "            print('{} entities have been processed'.format(count))\n",
    "        if (line is None) or (line[0] == '#'):\n",
    "            continue\n",
    "        #line = line.lower().strip()[:-5].replace('/>', '>').split(' ')\n",
    "        line=line.split(' ')\n",
    "        if len(line) < 3:\n",
    "            continue\n",
    "        entity = line[0][1:-1].split('/')[-1]\n",
    "        line[-2]=line[-2][:-4]\n",
    "        abstract = preprocess(' '.join(line[2:-1]).replace('\\\\', ''))\n",
    "        entity_map_abstract[entity]=abstract\n",
    "           "
   ]
  },
  {
   "cell_type": "code",
   "execution_count": 7,
   "metadata": {},
   "outputs": [
    {
     "data": {
      "text/plain": [
       "4932176"
      ]
     },
     "execution_count": 7,
     "metadata": {},
     "output_type": "execute_result"
    }
   ],
   "source": [
    "dict_len=len(entity_map_abstract)"
   ]
  },
  {
   "cell_type": "code",
   "execution_count": 6,
   "metadata": {},
   "outputs": [],
   "source": [
    "with open(\"../data/DBpedia_map_entity_abstract.json\", 'w',encoding='utf-8') as f:\n",
    "  json.dump(entity_map_abstract, f, ensure_ascii=False)\n",
    "\n",
    "print(f'Save a dictionary as a json file, DBpedia entities as key, \\nall the corresponding abstract as the value.\\nThe length of the dictionary is {dict_len}')"
   ]
  }
 ],
 "metadata": {
  "kernelspec": {
   "display_name": "Python 3",
   "language": "python",
   "name": "python3"
  },
  "language_info": {
   "codemirror_mode": {
    "name": "ipython",
    "version": 3
   },
   "file_extension": ".py",
   "mimetype": "text/x-python",
   "name": "python",
   "nbconvert_exporter": "python",
   "pygments_lexer": "ipython3",
   "version": "3.7.6"
  },
  "toc": {
   "base_numbering": 1,
   "nav_menu": {},
   "number_sections": true,
   "sideBar": true,
   "skip_h1_title": false,
   "title_cell": "Table of Contents",
   "title_sidebar": "Contents",
   "toc_cell": false,
   "toc_position": {},
   "toc_section_display": true,
   "toc_window_display": false
  }
 },
 "nbformat": 4,
 "nbformat_minor": 4
}
