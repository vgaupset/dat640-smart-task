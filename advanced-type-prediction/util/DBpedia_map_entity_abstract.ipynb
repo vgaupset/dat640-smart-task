{
 "cells": [
  {
   "cell_type": "code",
   "execution_count": 9,
   "metadata": {},
   "outputs": [],
   "source": [
    "import json\n",
    "import pickle\n",
    "from helper_function import preprocess"
   ]
  },
  {
   "cell_type": "code",
   "execution_count": 2,
   "metadata": {},
   "outputs": [],
   "source": [
    "#!which python"
   ]
  },
  {
   "cell_type": "code",
   "execution_count": 3,
   "metadata": {},
   "outputs": [],
   "source": [
    "#conda install elasticsearch"
   ]
  },
  {
   "cell_type": "markdown",
   "metadata": {},
   "source": [
    "**read from short_abstracts_en.ttl and covert to map with key as the name of entity, value as abstract**"
   ]
  },
  {
   "cell_type": "code",
   "execution_count": 5,
   "metadata": {},
   "outputs": [],
   "source": [
    "#test file\n",
    "#filepath=\"../data/xaa_small_abs\"\n",
    "\n",
    "filepath=\"../data/short_abstracts_en.ttl\"\n",
    "entity_map_abstract={}\n",
    "with open(filepath, 'r', encoding='utf-8') as file: \n",
    "    for line in file:\n",
    "        if (line is None) or (line[0] == '#'):\n",
    "            continue\n",
    "        #line = line.lower().strip()[:-5].replace('/>', '>').split(' ')\n",
    "        line=line.split(' ')\n",
    "        if len(line) < 3:\n",
    "            continue\n",
    "        entity = line[0][1:-1].split('/')[-1]\n",
    "        line[-2]=line[-2][:-4]\n",
    "        abstract = preprocess(' '.join(line[2:-1]).replace('\\\\', ''))\n",
    "        entity_map_abstract[entity]=abstract\n",
    "           "
   ]
  },
  {
   "cell_type": "code",
   "execution_count": 7,
   "metadata": {},
   "outputs": [
    {
     "data": {
      "text/plain": [
       "4932176"
      ]
     },
     "execution_count": 7,
     "metadata": {},
     "output_type": "execute_result"
    }
   ],
   "source": [
    "len(entity_map_abstract)"
   ]
  },
  {
   "cell_type": "code",
   "execution_count": 10,
   "metadata": {},
   "outputs": [],
   "source": [
    "# a_file = open(\"DBpedia_map_entity_abstract_1.pkl\", \"wb\")\n",
    "# pickle.dump(entity_map_abstract, a_file)\n",
    "# a_file.close()"
   ]
  },
  {
   "cell_type": "code",
   "execution_count": 6,
   "metadata": {},
   "outputs": [],
   "source": [
    "with open(\"../data/DBpedia_map_entity_abstract.json\", 'w',encoding='utf-8') as f:\n",
    "  json.dump(entity_map_abstract, f, ensure_ascii=False)"
   ]
  }
 ],
 "metadata": {
  "kernelspec": {
   "display_name": "Python 3 (ipykernel)",
   "language": "python",
   "name": "python3"
  },
  "language_info": {
   "codemirror_mode": {
    "name": "ipython",
    "version": 3
   },
   "file_extension": ".py",
   "mimetype": "text/x-python",
   "name": "python",
   "nbconvert_exporter": "python",
   "pygments_lexer": "ipython3",
   "version": "3.8.4"
  },
  "toc": {
   "base_numbering": 1,
   "nav_menu": {},
   "number_sections": true,
   "sideBar": true,
   "skip_h1_title": false,
   "title_cell": "Table of Contents",
   "title_sidebar": "Contents",
   "toc_cell": false,
   "toc_position": {},
   "toc_section_display": true,
   "toc_window_display": false
  }
 },
 "nbformat": 4,
 "nbformat_minor": 4
}
