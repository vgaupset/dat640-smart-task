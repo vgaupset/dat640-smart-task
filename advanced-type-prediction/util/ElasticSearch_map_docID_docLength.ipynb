{
 "cells": [
  {
   "cell_type": "code",
   "execution_count": 5,
   "metadata": {},
   "outputs": [],
   "source": [
    "from elasticsearch import Elasticsearch\n",
    "from typing import Dict, List, Optional\n",
    "import json"
   ]
  },
  {
   "cell_type": "code",
   "execution_count": 19,
   "metadata": {},
   "outputs": [],
   "source": [
    "def DBpedia_map_docID_docLength(es: Elasticsearch,index:str=\"dbpdiea_type_centric\",field=\"abstract\"):\n",
    "    \"\"\"\n",
    "    calculate doc length for every doc_id and save to a dictionary\n",
    "    \"\"\"\n",
    "    if not es.indices.exists(index):\n",
    "        print(f'Index: {index} not exist ')\n",
    "        return None\n",
    "    count = es.cat.count(index, params={\"format\": \"json\"})\n",
    "    len_indexed=int(count[0][\"count\"])\n",
    "    if len_indexed==0:\n",
    "        print(f'No items exist in {index}')\n",
    "        return None\n",
    "    map_docID_docLength={}\n",
    "    for doc_id in range(len_indexed):\n",
    "        tv = es.termvectors(index=index, doc_type=\"_doc\", id=str(doc_id), fields=field, term_statistics=True) \n",
    "        doc_len=0\n",
    "        try:\n",
    "            for term_stat_dic in tv[\"term_vectors\"][field][\"terms\"].values():\n",
    "                doc_len+=term_stat_dic['term_freq']\n",
    "        except KeyError:\n",
    "            pass\n",
    "        map_docID_docLength[str(doc_id)]=doc_len\n",
    "    return map_docID_docLength\n",
    "        "
   ]
  },
  {
   "cell_type": "code",
   "execution_count": 20,
   "metadata": {},
   "outputs": [
    {
     "name": "stderr",
     "output_type": "stream",
     "text": [
      "C:\\Users\\junec\\anaconda3\\lib\\site-packages\\ipykernel_launcher.py:2: DeprecationWarning: Using positional arguments for APIs is deprecated and will be disabled in 8.0.0. Instead use only keyword arguments for all APIs. See https://github.com/elastic/elasticsearch-py/issues/1698 for more information\n",
      "  \n",
      "C:\\Users\\junec\\anaconda3\\lib\\site-packages\\ipykernel_launcher.py:5: DeprecationWarning: Using positional arguments for APIs is deprecated and will be disabled in 8.0.0. Instead use only keyword arguments for all APIs. See https://github.com/elastic/elasticsearch-py/issues/1698 for more information\n",
      "  \"\"\"\n"
     ]
    },
    {
     "name": "stdout",
     "output_type": "stream",
     "text": [
      "----len_indexed 421\n"
     ]
    }
   ],
   "source": [
    "es= Elasticsearch(timeout=600)\n",
    "es.info()\n",
    "map_docID_docLength=DBpedia_map_docID_docLength(es)\n",
    "with open(\"../data/DBpedia_map_docID_docLength.json\", 'w') as f:\n",
    "  json.dump(map_docID_docLength, f)"
   ]
  },
  {
   "cell_type": "code",
   "execution_count": null,
   "metadata": {},
   "outputs": [],
   "source": []
  }
 ],
 "metadata": {
  "kernelspec": {
   "display_name": "Python 3",
   "language": "python",
   "name": "python3"
  },
  "language_info": {
   "codemirror_mode": {
    "name": "ipython",
    "version": 3
   },
   "file_extension": ".py",
   "mimetype": "text/x-python",
   "name": "python",
   "nbconvert_exporter": "python",
   "pygments_lexer": "ipython3",
   "version": "3.7.6"
  },
  "toc": {
   "base_numbering": 1,
   "nav_menu": {},
   "number_sections": true,
   "sideBar": true,
   "skip_h1_title": false,
   "title_cell": "Table of Contents",
   "title_sidebar": "Contents",
   "toc_cell": false,
   "toc_position": {},
   "toc_section_display": true,
   "toc_window_display": false
  }
 },
 "nbformat": 4,
 "nbformat_minor": 4
}
