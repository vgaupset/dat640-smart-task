{
 "cells": [
  {
   "cell_type": "code",
   "execution_count": 1,
   "metadata": {},
   "outputs": [],
   "source": [
    "from typing import Callable, Dict, List, Set, Tuple\n",
    "import sys  \n",
    "sys.path.insert(0, '../UTIL')\n",
    "from type_hierarchy import TypeTaxonomy"
   ]
  },
  {
   "cell_type": "code",
   "execution_count": 2,
   "metadata": {},
   "outputs": [],
   "source": [
    "#Knowledge base features\n",
    "FEATURES_13=\"DEPTH_t\"\n",
    "FEATURES_14=\"CHILDREN_t\"\n",
    "FEATURES_15=\"SIBLINGS_t\""
   ]
  },
  {
   "cell_type": "code",
   "execution_count": 3,
   "metadata": {},
   "outputs": [],
   "source": [
    "typeobj=TypeTaxonomy(\"../data/dbpedia_types.tsv\")"
   ]
  },
  {
   "cell_type": "code",
   "execution_count": 4,
   "metadata": {},
   "outputs": [],
   "source": [
    "#typeobj._types"
   ]
  },
  {
   "cell_type": "code",
   "execution_count": 5,
   "metadata": {},
   "outputs": [],
   "source": [
    "def extract_features_13to15(typeobj:TypeTaxonomy,dp_type:str)-> Dict[str, float]:\n",
    "    dp_types=list(typeobj._types.keys())\n",
    "    SIBLINGS=[item for item in dp_types if typeobj.depth(item)==typeobj.depth(dp_type) and item!=dp_type]\n",
    "    return {FEATURES_13:round(typeobj.depth(dp_type)/typeobj.max_depth(),3),\n",
    "           FEATURES_14:len(typeobj.children(dp_type)),\n",
    "           FEATURES_15:len(SIBLINGS)}"
   ]
  },
  {
   "cell_type": "code",
   "execution_count": 6,
   "metadata": {},
   "outputs": [
    {
     "data": {
      "text/plain": [
       "{'DEPTH_t': 0.429, 'CHILDREN_t': 0, 'SIBLINGS_t': 209}"
      ]
     },
     "execution_count": 6,
     "metadata": {},
     "output_type": "execute_result"
    }
   ],
   "source": [
    "extract_features_13to15(typeobj,\"dbo:MilitaryPerson\")"
   ]
  }
 ],
 "metadata": {
  "kernelspec": {
   "display_name": "Python 3",
   "language": "python",
   "name": "python3"
  },
  "language_info": {
   "codemirror_mode": {
    "name": "ipython",
    "version": 3
   },
   "file_extension": ".py",
   "mimetype": "text/x-python",
   "name": "python",
   "nbconvert_exporter": "python",
   "pygments_lexer": "ipython3",
   "version": "3.7.6"
  },
  "toc": {
   "base_numbering": 1,
   "nav_menu": {},
   "number_sections": true,
   "sideBar": true,
   "skip_h1_title": false,
   "title_cell": "Table of Contents",
   "title_sidebar": "Contents",
   "toc_cell": false,
   "toc_position": {},
   "toc_section_display": true,
   "toc_window_display": false
  }
 },
 "nbformat": 4,
 "nbformat_minor": 5
}
