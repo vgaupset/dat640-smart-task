{
 "cells": [
  {
   "cell_type": "code",
   "execution_count": 1,
   "metadata": {},
   "outputs": [],
   "source": [
    "from typing import Optional, Callable, Dict, List, Set, Tuple\n",
    "import math"
   ]
  },
  {
   "cell_type": "code",
   "execution_count": 2,
   "metadata": {},
   "outputs": [],
   "source": [
    "class TypeTaxonomy:\n",
    "    \n",
    "    ROOT = \"owl:Thing\"\n",
    "    \n",
    "    def __init__(self, tsv_filename: str) -> None:\n",
    "        \"\"\"Initializes the type taxonomy by loading it from a TSV file.\n",
    "        \n",
    "        Args:\n",
    "            tsv_filename: Name of TSV file, with type_id, depth, and parent_id columns.\n",
    "        \"\"\"\n",
    "        self._types = {self.ROOT: {\"parent\": None, \"depth\": 0}}\n",
    "        self._max_depth = 0\n",
    "        with open(tsv_filename, \"r\") as tsv_file:\n",
    "            next(tsv_file)  # Skip header row\n",
    "            for line in tsv_file:\n",
    "                fields = line.rstrip().split(\"\\t\")\n",
    "                type_id, depth, parent_type = fields[0], int(fields[1]), fields[2]\n",
    "                self._types[type_id] = {\"parent\": parent_type, \"depth\": depth}\n",
    "                self._max_depth = max(depth, self._max_depth)\n",
    "                \n",
    "        # Once all types have been read in, we also populate each type with a list\n",
    "        # of its children for convenience (if the taxonomy is to be traversed\n",
    "        # downwards not just upwards).\n",
    "        for type_id in self._types:\n",
    "            if type_id == self.ROOT:\n",
    "                continue\n",
    "            parent_type = self._types[type_id][\"parent\"]            \n",
    "            if \"children\" not in self._types[parent_type]:\n",
    "                self._types[parent_type][\"children\"] = set()\n",
    "            self._types[parent_type][\"children\"].add(type_id)\n",
    "                        \n",
    "    def max_depth(self) -> int:\n",
    "        \"\"\"Returns the maximum depth of the type taxonomy.\"\"\"\n",
    "        return self._max_depth\n",
    "    \n",
    "    def is_root(self, type_id: str) -> bool:\n",
    "        \"\"\"Returns true if the type is the root of the taxonomy.\n",
    "        \n",
    "        Args:\n",
    "            type_id: Type ID.\n",
    "            \n",
    "        Returns:\n",
    "            True if root.\n",
    "        \"\"\"\n",
    "        return type_id == self.ROOT\n",
    "    \n",
    "    def depth(self, type_id: str) -> int:\n",
    "        \"\"\"Returns the depth of a type in the taxonomy.\n",
    "        \n",
    "        Args:\n",
    "            type_id: Type ID.\n",
    "            \n",
    "        Returns:\n",
    "            The depth of the type in the hierarchy (0 for root).\n",
    "        \"\"\"\n",
    "        return self._types.get(type_id, {}).get(\"depth\")\n",
    "\n",
    "    def parent(self, type_id: str) -> Optional[str]:\n",
    "        \"\"\"Returns the parent type of a type in the taxonomy.\n",
    "        \n",
    "        Args:\n",
    "            type_id: Type ID.\n",
    "            \n",
    "        Returns:\n",
    "            Parent type ID, or None if the input type is root.\n",
    "        \"\"\"\n",
    "        return self._types.get(type_id, {}).get(\"parent\")\n",
    "\n",
    "    def children(self, type_id: str) -> Set[str]:\n",
    "        \"\"\"Returns the set of children types of a type in the taxonomy.\n",
    "        \n",
    "        Args:\n",
    "            type_id: Type ID.\n",
    "            \n",
    "        Returns:\n",
    "            Set of type IDs (empty set if leaf type).\n",
    "        \"\"\"\n",
    "        return self._types.get(type_id, {}).get(\"children\", set())\n",
    "    \n",
    "    def dist(self, type_id1: str, type_id2: str) -> float:\n",
    "        \"\"\"Computes the distance between two types in the taxonomy.\n",
    "        \n",
    "        Args:\n",
    "            type_id1: ID of first type.\n",
    "            type_id2: ID of second type.\n",
    "            \n",
    "        Returns:\n",
    "            The distance between the two types in the type taxonomy, which is\n",
    "            the number of steps between them if they lie on the same branch,\n",
    "            and otherwise `math.inf`.\n",
    "        \"\"\"\n",
    "        # Find which type has higher depth and set if to type_a; the other is type_b.        \n",
    "        type_a, type_b = (type_id2, type_id1) if self.depth(type_id1) < self.depth(type_id2)                          else (type_id1, type_id2)\n",
    "        dist = self.depth(type_a) - self.depth(type_b)\n",
    "        \n",
    "        # If they lie on the same branch, then when traversing type_a for dist steps\n",
    "        # would make us end up with type_b; otherwise, they're not on the same branch.\n",
    "        for _ in range(dist):\n",
    "            type_a = self.parent(type_a)\n",
    "        \n",
    "        return dist if type_a == type_b else math.inf\n"
   ]
  },
  {
   "cell_type": "code",
   "execution_count": 3,
   "metadata": {},
   "outputs": [],
   "source": [
    "#Knowledge base features\n",
    "FEATURES_13=\"DEPTH_t\"\n",
    "FEATURES_14=\"CHILDREN_t\"\n",
    "FEATURES_15=\"SIBLINGS_t\""
   ]
  },
  {
   "cell_type": "code",
   "execution_count": 4,
   "metadata": {},
   "outputs": [],
   "source": [
    "typeobj=TypeTaxonomy(\"../data/dbpedia_types.tsv\")\n",
    "#typeobj._types"
   ]
  },
  {
   "cell_type": "code",
   "execution_count": 5,
   "metadata": {},
   "outputs": [],
   "source": [
    "def extract_features_13to15(typeobj:TypeTaxonomy,dp_type:str)-> Dict[str, float]:\n",
    "    dp_types=list(typeobj._types.keys())\n",
    "    SIBLINGS=[item for item in dp_types if typeobj.depth(item)==typeobj.depth(dp_type) and item!=dp_type]\n",
    "    return {\"DEPTH_t\":round(typeobj.depth(dp_type)/typeobj.max_depth(),3),\n",
    "           \"CHILDREN_t\":len(typeobj.children(dp_type)),\n",
    "           \"SIBLINGS_t\":len(SIBLINGS)}"
   ]
  },
  {
   "cell_type": "code",
   "execution_count": 6,
   "metadata": {},
   "outputs": [
    {
     "data": {
      "text/plain": [
       "{'DEPTH_t': 0.429, 'CHILDREN_t': 0, 'SIBLINGS_t': 209}"
      ]
     },
     "execution_count": 6,
     "metadata": {},
     "output_type": "execute_result"
    }
   ],
   "source": [
    "extract_features_13to15(typeobj,\"dbo:MilitaryPerson\")"
   ]
  }
 ],
 "metadata": {
  "kernelspec": {
   "display_name": "Python 3",
   "language": "python",
   "name": "python3"
  },
  "language_info": {
   "codemirror_mode": {
    "name": "ipython",
    "version": 3
   },
   "file_extension": ".py",
   "mimetype": "text/x-python",
   "name": "python",
   "nbconvert_exporter": "python",
   "pygments_lexer": "ipython3",
   "version": "3.7.6"
  },
  "toc": {
   "base_numbering": 1,
   "nav_menu": {},
   "number_sections": true,
   "sideBar": true,
   "skip_h1_title": false,
   "title_cell": "Table of Contents",
   "title_sidebar": "Contents",
   "toc_cell": false,
   "toc_position": {},
   "toc_section_display": true,
   "toc_window_display": false
  }
 },
 "nbformat": 4,
 "nbformat_minor": 5
}
