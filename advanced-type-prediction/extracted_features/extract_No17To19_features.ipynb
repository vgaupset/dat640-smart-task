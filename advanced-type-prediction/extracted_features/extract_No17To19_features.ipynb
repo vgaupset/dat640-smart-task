{
 "cells": [
  {
   "cell_type": "code",
   "execution_count": 1,
   "metadata": {},
   "outputs": [],
   "source": [
    "import json\n",
    "from typing import Callable, Dict, List, Set, Tuple\n",
    "from sklearn.feature_extraction.text import TfidfVectorizer, CountVectorizer"
   ]
  },
  {
   "cell_type": "code",
   "execution_count": 2,
   "metadata": {},
   "outputs": [],
   "source": [
    "import sys  \n",
    "#sys.path.insert(0, '../UTIL')\n",
    "#import helper_function\n",
    "#from helper_function import analyze_query, get_doc_term_freqs"
   ]
  },
  {
   "cell_type": "code",
   "execution_count": 3,
   "metadata": {},
   "outputs": [],
   "source": [
    "FEATURES_17=\"LENGTH_t\"\n",
    "FEATURES_18=\"IDFSUM_t\"\n",
    "FEATURES_19=\"IDFAVG_t\""
   ]
  },
  {
   "cell_type": "code",
   "execution_count": 4,
   "metadata": {},
   "outputs": [],
   "source": [
    "# vectorizer = CountVectorizer()\n",
    "# X = vectorizer.fit_transform(corpus)\n",
    "# X.toarray()\n",
    "# X.shape\n",
    "# np.sum(X[0,:])"
   ]
  },
  {
   "cell_type": "code",
   "execution_count": 5,
   "metadata": {},
   "outputs": [],
   "source": [
    "def extract_features_17to19(data,dp_type:str,query:str)-> Dict[str, float]:\n",
    "    corpus=[item['questions'] for item in data]\n",
    "    db_types=[item['type'] for item in data]\n",
    "    #print(db_types)\n",
    "    type_index=db_types.index(dp_type)\n",
    "    #print(type_index)\n",
    "    vectorizer = TfidfVectorizer()\n",
    "    X = vectorizer.fit_transform(corpus)\n",
    "    terms_corpus=vectorizer.get_feature_names()\n",
    "    analyze = vectorizer.build_analyzer()\n",
    "    query_terms=analyze(query)\n",
    "    idf=[]\n",
    "    for term in query_terms:\n",
    "        if term in terms_corpus:\n",
    "            idf.append(X[type_index,terms_corpus.index(term)])\n",
    "        else:\n",
    "            idf.append(0)\n",
    "    return {\n",
    "        \"LENGTH_t\":len(corpus[type_index].split()),\n",
    "        \"IDFSUM_t\":round(sum(idf),3),\n",
    "        \"IDFAVG_t\":round(sum(idf)/len(idf),3)\n",
    "    }  "
   ]
  },
  {
   "cell_type": "code",
   "execution_count": 6,
   "metadata": {},
   "outputs": [
    {
     "data": {
      "text/plain": [
       "{'LENGTH_t': 1106, 'IDFSUM_t': 0.699, 'IDFAVG_t': 0.1}"
      ]
     },
     "execution_count": 6,
     "metadata": {},
     "output_type": "execute_result"
    }
   ],
   "source": [
    "filepath=\"../data/training_types.json\"\n",
    "with open(filepath,encoding='utf-8') as json_file:\n",
    "    data = json.load(json_file)\n",
    "    \n",
    "dp_type='dbo:MusicalWork'\n",
    "extract_features_17to19(data,dp_type,query=\"Does the shelf life of spinach equal 8?\")"
   ]
  },
  {
   "cell_type": "code",
   "execution_count": null,
   "metadata": {},
   "outputs": [],
   "source": []
  }
 ],
 "metadata": {
  "kernelspec": {
   "display_name": "Python 3",
   "language": "python",
   "name": "python3"
  },
  "language_info": {
   "codemirror_mode": {
    "name": "ipython",
    "version": 3
   },
   "file_extension": ".py",
   "mimetype": "text/x-python",
   "name": "python",
   "nbconvert_exporter": "python",
   "pygments_lexer": "ipython3",
   "version": "3.7.6"
  },
  "toc": {
   "base_numbering": 1,
   "nav_menu": {},
   "number_sections": true,
   "sideBar": true,
   "skip_h1_title": false,
   "title_cell": "Table of Contents",
   "title_sidebar": "Contents",
   "toc_cell": false,
   "toc_position": {},
   "toc_section_display": true,
   "toc_window_display": false
  }
 },
 "nbformat": 4,
 "nbformat_minor": 5
}
