{
 "cells": [
  {
   "cell_type": "code",
   "execution_count": 1,
   "metadata": {},
   "outputs": [
    {
     "name": "stderr",
     "output_type": "stream",
     "text": [
      "[nltk_data] Downloading package averaged_perceptron_tagger to\n",
      "[nltk_data]     C:\\Users\\junec\\AppData\\Roaming\\nltk_data...\n",
      "[nltk_data]   Package averaged_perceptron_tagger is already up-to-\n",
      "[nltk_data]       date!\n"
     ]
    },
    {
     "data": {
      "text/plain": [
       "True"
      ]
     },
     "execution_count": 1,
     "metadata": {},
     "output_type": "execute_result"
    }
   ],
   "source": [
    "import json\n",
    "import re\n",
    "from typing import  Dict, List, Set, Tuple\n",
    "from sklearn.feature_extraction.text import TfidfVectorizer, CountVectorizer\n",
    "import nltk\n",
    "nltk.download('averaged_perceptron_tagger')"
   ]
  },
  {
   "cell_type": "code",
   "execution_count": 2,
   "metadata": {},
   "outputs": [],
   "source": [
    "# with open('../data/training_types.json',encoding='utf-8') as json_file:\n",
    "#     data = json.load(json_file)"
   ]
  },
  {
   "cell_type": "code",
   "execution_count": 3,
   "metadata": {},
   "outputs": [],
   "source": [
    "def jaccard_similarity(setA:Set, setB:Set)->float:\n",
    "    union_sets=intesects=setA.union(setB)\n",
    "    inter_sets=setA.intersection(setB)\n",
    "    return len(inter_sets)/len(union_sets)"
   ]
  },
  {
   "cell_type": "code",
   "execution_count": 4,
   "metadata": {},
   "outputs": [],
   "source": [
    "def produce_nGram_terms(nGram:int, sentence:str)->set:\n",
    "    bigram_vectorizer = CountVectorizer(ngram_range=(nGram,nGram),token_pattern=r'\\b\\w+\\b', min_df=1)\n",
    "    analyze = bigram_vectorizer.build_analyzer()\n",
    "    terms=analyze(sentence)\n",
    "    return set(terms)"
   ]
  },
  {
   "cell_type": "code",
   "execution_count": 5,
   "metadata": {},
   "outputs": [],
   "source": [
    "def convert_DBOtype_toSet(dp_type:str)->set:\n",
    "    dp_type=dp_type[len(\"dbo:\"):]\n",
    "    splitted_type=re.findall('[A-Z][a-z]*', dp_type)\n",
    "    joined_type= \" \".join(splitted_type).lower()\n",
    "    print(joined_type)\n",
    "    return set([joined_type])"
   ]
  },
  {
   "cell_type": "code",
   "execution_count": 7,
   "metadata": {},
   "outputs": [],
   "source": [
    "def get_nouns(sentence:str)->set:\n",
    "    \"\"\"\n",
    "    get all nouns from string\n",
    "    return set of these nouns\n",
    "    \"\"\"  \n",
    "    is_noun = lambda pos: pos[:2] == 'NN'    \n",
    "    tokenized = nltk.word_tokenize(sentence)\n",
    "    nouns = [word for (word, pos) in nltk.pos_tag(tokenized) if is_noun(pos)] \n",
    "    return set(nouns) "
   ]
  },
  {
   "cell_type": "code",
   "execution_count": 8,
   "metadata": {},
   "outputs": [],
   "source": [
    "def extract_features_20to22(dp_type:str, question:str)->Tuple[float,float,float]:\n",
    "    question_1_gram=produce_nGram_terms(1,question)\n",
    "    question_2_gram=produce_nGram_terms(2,question)\n",
    "    question_nouns=get_nouns(question)\n",
    "    dp_type_processed=convert_DBOtype_toSet(dp_type)\n",
    "    \n",
    "    feature20=jaccard_similarity(question_1_gram,dp_type_processed)\n",
    "    feature21=jaccard_similarity(question_2_gram,dp_type_processed)\n",
    "    feature22=jaccard_similarity(question_nouns,dp_type_processed)\n",
    "    return feature20,feature21,feature22\n",
    "           "
   ]
  },
  {
   "cell_type": "code",
   "execution_count": 9,
   "metadata": {},
   "outputs": [
    {
     "name": "stdout",
     "output_type": "stream",
     "text": [
      "music festival\n"
     ]
    },
    {
     "data": {
      "text/plain": [
       "(0.0, 0.09090909090909091, 0.0)"
      ]
     },
     "execution_count": 9,
     "metadata": {},
     "output_type": "execute_result"
    }
   ],
   "source": [
    "dp_type=\"dbo:MusicFestival\"\n",
    "assert convert_DBOtype_toSet(dp_type)=={'music festival'}\n",
    "\n",
    "dp_type=\"dbo:MusicFestival\"\n",
    "question=\"When was Bibi Andersson music festival married to Per Ahlmark very green?\"\n",
    "extract_features_20to22(dp_type, question)"
   ]
  }
 ],
 "metadata": {
  "kernelspec": {
   "display_name": "Python 3",
   "language": "python",
   "name": "python3"
  },
  "language_info": {
   "codemirror_mode": {
    "name": "ipython",
    "version": 3
   },
   "file_extension": ".py",
   "mimetype": "text/x-python",
   "name": "python",
   "nbconvert_exporter": "python",
   "pygments_lexer": "ipython3",
   "version": "3.7.6"
  },
  "toc": {
   "base_numbering": 1,
   "nav_menu": {},
   "number_sections": true,
   "sideBar": true,
   "skip_h1_title": false,
   "title_cell": "Table of Contents",
   "title_sidebar": "Contents",
   "toc_cell": false,
   "toc_position": {},
   "toc_section_display": true,
   "toc_window_display": false
  }
 },
 "nbformat": 4,
 "nbformat_minor": 5
}
