{
 "cells": [
  {
   "cell_type": "markdown",
   "metadata": {},
   "source": [
    "**need some %run command and uncomment the model load before submitting**"
   ]
  },
  {
   "cell_type": "code",
   "execution_count": 1,
   "metadata": {},
   "outputs": [
    {
     "name": "stderr",
     "output_type": "stream",
     "text": [
      "[nltk_data] Downloading package averaged_perceptron_tagger to\n",
      "[nltk_data]     C:\\Users\\junec\\AppData\\Roaming\\nltk_data...\n",
      "[nltk_data]   Package averaged_perceptron_tagger is already up-to-\n",
      "[nltk_data]       date!\n",
      "[nltk_data] Downloading package averaged_perceptron_tagger to\n",
      "[nltk_data]     C:\\Users\\junec\\AppData\\Roaming\\nltk_data...\n",
      "[nltk_data]   Package averaged_perceptron_tagger is already up-to-\n",
      "[nltk_data]       date!\n"
     ]
    }
   ],
   "source": [
    "import sys,json  \n",
    "from typing import Callable, Dict, List, Set, Tuple\n",
    "import gensim.downloader as api\n",
    "import gensim\n",
    "sys.path.insert(0, 'extract_features')\n",
    "from extract_No1to10_features import extract_features_1to5\n",
    "from extract_No13to15_features import TypeTaxonomy, extract_features_13to15\n",
    "from extract_No16_feature import extract_features_16_variant1, extract_features_16_variant2\n",
    "from extract_No17to19_features import extract_features_17to19\n",
    "from extract_No20to22_features import extract_features_20to22\n",
    "#from extract_No23to25_features import extract_features_23to25\n",
    "from extract_No23to25_features_optimized import extract_features_23to25"
   ]
  },
  {
   "cell_type": "markdown",
   "metadata": {},
   "source": [
    "**for my computer , need the following enviroment to run this script**\n",
    "<br>\n",
    "/c/Users/junec/anaconda3/python\n",
    "<br>\n",
    "/c/Users/junec/anaconda3/Scripts/pip"
   ]
  },
  {
   "cell_type": "code",
   "execution_count": 2,
   "metadata": {},
   "outputs": [
    {
     "name": "stdout",
     "output_type": "stream",
     "text": [
      "/c/Users/junec/anaconda3/python\n",
      "/c/Users/junec/anaconda3/Scripts/pip\n"
     ]
    }
   ],
   "source": [
    "!which python\n",
    "!which pip"
   ]
  },
  {
   "cell_type": "code",
   "execution_count": 3,
   "metadata": {},
   "outputs": [
    {
     "name": "stderr",
     "output_type": "stream",
     "text": [
      "2021-11-14 14:17:57,946 : INFO : loading KeyedVectors object from googleNews.d2v\n",
      "2021-11-14 14:17:59,965 : INFO : loading vectors from googleNews.d2v.vectors.npy with mmap=None\n",
      "2021-11-14 14:18:16,875 : INFO : KeyedVectors lifecycle event {'fname': 'googleNews.d2v', 'datetime': '2021-11-14T14:18:16.843867', 'gensim': '4.1.2', 'python': '3.7.6 (default, Jan  8 2020, 20:23:39) [MSC v.1916 64 bit (AMD64)]', 'platform': 'Windows-10-10.0.19041-SP0', 'event': 'loaded'}\n"
     ]
    }
   ],
   "source": [
    "#model_loaded = api.load('word2vec-google-news-300')\n",
    "#model_loaded.save('googleNews.d2v')\n",
    "model_loaded = gensim.models.keyedvectors.KeyedVectors.load('googleNews.d2v')"
   ]
  },
  {
   "cell_type": "code",
   "execution_count": 4,
   "metadata": {},
   "outputs": [],
   "source": [
    "filepath=\"data/DBpedia_map_type_entities.json\"\n",
    "with open(filepath, 'r', encoding='utf-8') as file:\n",
    "    DBpedia_map_type_entities = json.load(file)\n",
    "filepath=\"data/training_types.json\"\n",
    "with open(filepath,encoding='utf-8') as json_file:\n",
    "    data_17to19 = json.load(json_file)\n",
    "    \n",
    "typeobj=TypeTaxonomy(\"data/dbpedia_types.tsv\")"
   ]
  },
  {
   "cell_type": "code",
   "execution_count": 5,
   "metadata": {},
   "outputs": [],
   "source": [
    "dp_type=\"dbo:MilitaryPerson\"\n",
    "question=\"Does the shelf life of spinach equal 8?\"\n",
    "\n",
    "dp_type=\"dbo:MusicFestival\"\n",
    "question=\"When was Bibi Andersson music festival married to Per Ahlmark very green?\""
   ]
  },
  {
   "cell_type": "markdown",
   "metadata": {},
   "source": [
    "**SIBLINGS_t need to fix**"
   ]
  },
  {
   "cell_type": "code",
   "execution_count": 6,
   "metadata": {},
   "outputs": [
    {
     "name": "stderr",
     "output_type": "stream",
     "text": [
      "2021-11-14 14:18:23,320 : INFO : GET http://localhost:9200/dbpedia_entity_centric/_search?_source=true&q=When+was+Bibi+Andersson+music+festival+married+to+Per+Ahlmark+very+green%3F&size=5 [status:200 request:1.669s]\n",
      "2021-11-14 14:18:23,586 : INFO : GET http://localhost:9200/dbpedia_entity_centric/_search?_source=true&q=When+was+Bibi+Andersson+music+festival+married+to+Per+Ahlmark+very+green%3F&size=10 [status:200 request:0.262s]\n",
      "2021-11-14 14:18:23,745 : INFO : GET http://localhost:9200/dbpedia_entity_centric/_search?_source=true&q=When+was+Bibi+Andersson+music+festival+married+to+Per+Ahlmark+very+green%3F&size=20 [status:200 request:0.158s]\n",
      "2021-11-14 14:18:23,907 : INFO : GET http://localhost:9200/dbpedia_entity_centric/_search?_source=true&q=When+was+Bibi+Andersson+music+festival+married+to+Per+Ahlmark+very+green%3F&size=50 [status:200 request:0.160s]\n",
      "2021-11-14 14:18:24,210 : INFO : GET http://localhost:9200/dbpedia_entity_centric/_search?_source=true&q=When+was+Bibi+Andersson+music+festival+married+to+Per+Ahlmark+very+green%3F&size=100 [status:200 request:0.301s]\n"
     ]
    },
    {
     "data": {
      "text/plain": [
       "{'ECBM25_t_q_5': 0.2988,\n",
       " 'ECBM25_t_q_10': 0.5576,\n",
       " 'ECBM25_t_q_20': 1.0138,\n",
       " 'ECBM25_t_q_50': 2.2146,\n",
       " 'ECBM25_t_q_100': 4.0381}"
      ]
     },
     "execution_count": 6,
     "metadata": {},
     "output_type": "execute_result"
    }
   ],
   "source": [
    "extract_features_1to5(DBpedia_map_type_entities,dp_type,question)"
   ]
  },
  {
   "cell_type": "code",
   "execution_count": 7,
   "metadata": {},
   "outputs": [
    {
     "data": {
      "text/plain": [
       "{'DEPTH_t': 0.429, 'CHILDREN_t': 0, 'SIBLINGS_t': 209}"
      ]
     },
     "execution_count": 7,
     "metadata": {},
     "output_type": "execute_result"
    }
   ],
   "source": [
    "extract_features_13to15(typeobj,dp_type)"
   ]
  },
  {
   "cell_type": "code",
   "execution_count": 8,
   "metadata": {},
   "outputs": [
    {
     "name": "stdout",
     "output_type": "stream",
     "text": [
      "{'LENGTH_t': 440}\n",
      "{'LENGTH_t': 17}\n"
     ]
    }
   ],
   "source": [
    "print(extract_features_16_variant1(DBpedia_map_type_entities,dp_type))\n",
    "print(extract_features_16_variant2(dp_type))"
   ]
  },
  {
   "cell_type": "code",
   "execution_count": 9,
   "metadata": {},
   "outputs": [
    {
     "data": {
      "text/plain": [
       "{'LENGTH_t': 20, 'IDFSUM_t': 0.597, 'IDFAVG_t': 0.05}"
      ]
     },
     "execution_count": 9,
     "metadata": {},
     "output_type": "execute_result"
    }
   ],
   "source": [
    "extract_features_17to19(data_17to19,dp_type,question)"
   ]
  },
  {
   "cell_type": "code",
   "execution_count": 10,
   "metadata": {},
   "outputs": [
    {
     "data": {
      "text/plain": [
       "{'JTERMS1_t_q': 0.0, 'JTERMS2_t_q': 0.09090909090909091, 'JNOUNS_t_q': 0.0}"
      ]
     },
     "execution_count": 10,
     "metadata": {},
     "output_type": "execute_result"
    }
   ],
   "source": [
    "extract_features_20to22(dp_type,question)"
   ]
  },
  {
   "cell_type": "code",
   "execution_count": 11,
   "metadata": {},
   "outputs": [
    {
     "data": {
      "text/plain": [
       "{'SIMAGGR_t_q': 0.0196, 'SIMMAX_t_q': 1.0, 'SIMAVG_t_q': 0.2434}"
      ]
     },
     "execution_count": 11,
     "metadata": {},
     "output_type": "execute_result"
    }
   ],
   "source": [
    "extract_features_23to25(model_loaded,dp_type, question)"
   ]
  },
  {
   "cell_type": "code",
   "execution_count": 12,
   "metadata": {},
   "outputs": [
    {
     "data": {
      "text/plain": [
       "{'SIMAGGR_t_q': 0.0593, 'SIMMAX_t_q': 1.0, 'SIMAVG_t_q': 0.2434}"
      ]
     },
     "execution_count": 12,
     "metadata": {},
     "output_type": "execute_result"
    }
   ],
   "source": [
    "extract_features_23to25(model_loaded,dp_type, question, mode=\"similarities\")"
   ]
  }
 ],
 "metadata": {
  "kernelspec": {
   "display_name": "Python 3 (ipykernel)",
   "language": "python",
   "name": "python3"
  },
  "language_info": {
   "codemirror_mode": {
    "name": "ipython",
    "version": 3
   },
   "file_extension": ".py",
   "mimetype": "text/x-python",
   "name": "python",
   "nbconvert_exporter": "python",
   "pygments_lexer": "ipython3",
   "version": "3.8.4"
  },
  "toc": {
   "base_numbering": 1,
   "nav_menu": {},
   "number_sections": true,
   "sideBar": true,
   "skip_h1_title": false,
   "title_cell": "Table of Contents",
   "title_sidebar": "Contents",
   "toc_cell": false,
   "toc_position": {},
   "toc_section_display": true,
   "toc_window_display": false
  }
 },
 "nbformat": 4,
 "nbformat_minor": 4
}
