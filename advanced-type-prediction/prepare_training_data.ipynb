{
 "cells": [
  {
   "cell_type": "markdown",
   "metadata": {},
   "source": [
    "**need some %run command and uncomment the model load before submitting**"
   ]
  },
  {
   "cell_type": "code",
   "execution_count": 1,
   "metadata": {},
   "outputs": [
    {
     "name": "stderr",
     "output_type": "stream",
     "text": [
      "[nltk_data] Downloading package averaged_perceptron_tagger to\n",
      "[nltk_data]     C:\\Users\\junec\\AppData\\Roaming\\nltk_data...\n",
      "[nltk_data]   Package averaged_perceptron_tagger is already up-to-\n",
      "[nltk_data]       date!\n",
      "[nltk_data] Downloading package averaged_perceptron_tagger to\n",
      "[nltk_data]     C:\\Users\\junec\\AppData\\Roaming\\nltk_data...\n",
      "[nltk_data]   Package averaged_perceptron_tagger is already up-to-\n",
      "[nltk_data]       date!\n"
     ]
    }
   ],
   "source": [
    "import sys,json\n",
    "from typing import Callable, Dict, List, Set, Tuple\n",
    "from elasticsearch import Elasticsearch\n",
    "import gensim.downloader as api\n",
    "import gensim\n",
    "sys.path.insert(0, 'extract_features')\n",
    "from extract_No1to5_features import extract_features_1to5\n",
    "from extract_No11to12_features import extract_features_11to12\n",
    "from extract_No13to15_features import TypeTaxonomy, extract_features_13to15\n",
    "from extract_No16_feature import extract_features_16\n",
    "from extract_No17to19_features import extract_features_17to19\n",
    "from extract_No20to22_features import extract_features_20to22\n",
    "#from extract_No23to25_features import extract_features_23to25\n",
    "from extract_No23to25_features_optimized import extract_features_23to25"
   ]
  },
  {
   "cell_type": "code",
   "execution_count": 2,
   "metadata": {},
   "outputs": [],
   "source": [
    "#%run extract_features/extract_No11to12_features"
   ]
  },
  {
   "cell_type": "markdown",
   "metadata": {},
   "source": [
    "**for my computer , need the following enviroment to run this script**\n",
    "<br>\n",
    "/c/Users/junec/anaconda3/python\n",
    "<br>\n",
    "/c/Users/junec/anaconda3/Scripts/pip"
   ]
  },
  {
   "cell_type": "code",
   "execution_count": 3,
   "metadata": {},
   "outputs": [
    {
     "name": "stdout",
     "output_type": "stream",
     "text": [
      "/c/Users/junec/anaconda3/python\n",
      "/c/Users/junec/anaconda3/Scripts/pip\n"
     ]
    }
   ],
   "source": [
    "!which python\n",
    "!which pip"
   ]
  },
  {
   "cell_type": "code",
   "execution_count": 4,
   "metadata": {},
   "outputs": [
    {
     "name": "stderr",
     "output_type": "stream",
     "text": [
      "2021-11-17 23:19:23,363 : INFO : loading KeyedVectors object from googleNews.d2v\n",
      "2021-11-17 23:19:25,192 : INFO : loading vectors from googleNews.d2v.vectors.npy with mmap=None\n",
      "2021-11-17 23:19:39,797 : INFO : KeyedVectors lifecycle event {'fname': 'googleNews.d2v', 'datetime': '2021-11-17T23:19:39.746977', 'gensim': '4.1.2', 'python': '3.7.6 (default, Jan  8 2020, 20:23:39) [MSC v.1916 64 bit (AMD64)]', 'platform': 'Windows-10-10.0.19041-SP0', 'event': 'loaded'}\n"
     ]
    }
   ],
   "source": [
    "#load model\n",
    "try:\n",
    "    model_loaded = gensim.models.keyedvectors.KeyedVectors.load('googleNews.d2v')\n",
    "except:\n",
    "    model_loaded = api.load('word2vec-google-news-300')\n",
    "    model_loaded.save('googleNews.d2v')\n",
    "    model_loaded = gensim.models.keyedvectors.KeyedVectors.load('googleNews.d2v')"
   ]
  },
  {
   "cell_type": "code",
   "execution_count": 5,
   "metadata": {},
   "outputs": [
    {
     "name": "stdout",
     "output_type": "stream",
     "text": [
      "------length: 421\n"
     ]
    }
   ],
   "source": [
    "#load files\n",
    "filepath=\"data/DBpedia_map_type_entities.json\"\n",
    "with open(filepath, 'r', encoding='utf-8') as file:\n",
    "    DBpedia_map_type_entities = json.load(file)\n",
    "    \n",
    "filepath=\"data/training_types.json\"\n",
    "with open(filepath,encoding='utf-8') as json_file:\n",
    "    training_map_type_questions = json.load(json_file)\n",
    "\n",
    "filepath=\"data/ElasticSearch_map_type_docID.json\"\n",
    "with open(filepath, 'r',encoding='utf-8') as f:\n",
    "    docID_DBOtype_dict = json.load(f)\n",
    "print(\"------length:\",len(docID_DBOtype_dict))\n",
    "\n",
    "typeobj=TypeTaxonomy(\"data/dbpedia_types.tsv\")"
   ]
  },
  {
   "cell_type": "code",
   "execution_count": 6,
   "metadata": {},
   "outputs": [
    {
     "name": "stderr",
     "output_type": "stream",
     "text": [
      "2021-11-17 23:19:44,284 : INFO : GET http://localhost:9200/ [status:200 request:0.376s]\n"
     ]
    }
   ],
   "source": [
    "es= Elasticsearch()\n",
    "es.info()\n",
    "dp_type=\"dbo:MilitaryPerson\"\n",
    "question=\"Does the shelf life of spinach equal 8?\"\n",
    "\n",
    "dp_type=\"dbo:MusicFestival\"\n",
    "question=\"When was Bibi Andersson music festival married to Per Ahlmark very green?\""
   ]
  },
  {
   "cell_type": "code",
   "execution_count": 7,
   "metadata": {},
   "outputs": [
    {
     "name": "stderr",
     "output_type": "stream",
     "text": [
      "2021-11-17 23:19:44,347 : INFO : HEAD http://localhost:9200/dbpedia_entity_centric [status:200 request:0.041s]\n",
      "2021-11-17 23:19:45,934 : INFO : GET http://localhost:9200/dbpedia_entity_centric/_search?_source=true&q=When+was+Bibi+Andersson+music+festival+married+to+Per+Ahlmark+very+green%3F&size=5 [status:200 request:1.583s]\n",
      "2021-11-17 23:19:46,101 : INFO : GET http://localhost:9200/dbpedia_entity_centric/_search?_source=true&q=When+was+Bibi+Andersson+music+festival+married+to+Per+Ahlmark+very+green%3F&size=10 [status:200 request:0.164s]\n",
      "2021-11-17 23:19:46,285 : INFO : GET http://localhost:9200/dbpedia_entity_centric/_search?_source=true&q=When+was+Bibi+Andersson+music+festival+married+to+Per+Ahlmark+very+green%3F&size=20 [status:200 request:0.183s]\n",
      "2021-11-17 23:19:46,494 : INFO : GET http://localhost:9200/dbpedia_entity_centric/_search?_source=true&q=When+was+Bibi+Andersson+music+festival+married+to+Per+Ahlmark+very+green%3F&size=50 [status:200 request:0.204s]\n",
      "2021-11-17 23:19:46,713 : INFO : GET http://localhost:9200/dbpedia_entity_centric/_search?_source=true&q=When+was+Bibi+Andersson+music+festival+married+to+Per+Ahlmark+very+green%3F&size=100 [status:200 request:0.216s]\n"
     ]
    },
    {
     "data": {
      "text/plain": [
       "{'ECBM25_t_q_5': 0.2988,\n",
       " 'ECBM25_t_q_10': 0.5576,\n",
       " 'ECBM25_t_q_20': 1.0138,\n",
       " 'ECBM25_t_q_50': 2.2146,\n",
       " 'ECBM25_t_q_100': 4.0381}"
      ]
     },
     "execution_count": 7,
     "metadata": {},
     "output_type": "execute_result"
    }
   ],
   "source": [
    "extract_features_1to5(DBpedia_map_type_entities,dp_type,question,es)"
   ]
  },
  {
   "cell_type": "code",
   "execution_count": 8,
   "metadata": {},
   "outputs": [
    {
     "name": "stderr",
     "output_type": "stream",
     "text": [
      "2021-11-17 23:19:46,818 : INFO : HEAD http://localhost:9200/dbpedia_entity_centric [status:200 request:0.003s]\n",
      "2021-11-17 23:19:46,893 : INFO : GET http://localhost:9200/dbpedia_entity_centric/_search?_source=true&q=When+was+Bibi+Andersson+music+festival+married+to+Per+Ahlmark+very+green%3F&size=5 [status:200 request:0.073s]\n",
      "2021-11-17 23:19:46,969 : INFO : GET http://localhost:9200/dbpedia_entity_centric/_search?_source=true&q=When+was+Bibi+Andersson+music+festival+married+to+Per+Ahlmark+very+green%3F&size=10 [status:200 request:0.075s]\n",
      "2021-11-17 23:19:47,058 : INFO : GET http://localhost:9200/dbpedia_entity_centric/_search?_source=true&q=When+was+Bibi+Andersson+music+festival+married+to+Per+Ahlmark+very+green%3F&size=20 [status:200 request:0.088s]\n",
      "2021-11-17 23:19:47,236 : INFO : GET http://localhost:9200/dbpedia_entity_centric/_search?_source=true&q=When+was+Bibi+Andersson+music+festival+married+to+Per+Ahlmark+very+green%3F&size=50 [status:200 request:0.177s]\n",
      "2021-11-17 23:19:47,383 : INFO : GET http://localhost:9200/dbpedia_entity_centric/_search?_source=true&q=When+was+Bibi+Andersson+music+festival+married+to+Per+Ahlmark+very+green%3F&size=100 [status:200 request:0.145s]\n"
     ]
    },
    {
     "data": {
      "text/plain": [
       "[0.2988, 0.5576, 1.0138, 2.2146, 4.0381]"
      ]
     },
     "execution_count": 8,
     "metadata": {},
     "output_type": "execute_result"
    }
   ],
   "source": [
    "features_1to5=extract_features_1to5(DBpedia_map_type_entities,dp_type,question,es)\n",
    "list(features_1to5.values())"
   ]
  },
  {
   "cell_type": "code",
   "execution_count": 9,
   "metadata": {},
   "outputs": [
    {
     "name": "stderr",
     "output_type": "stream",
     "text": [
      "2021-11-17 23:19:47,563 : INFO : HEAD http://localhost:9200/dbpdiea_type_centric [status:200 request:0.002s]\n",
      "2021-11-17 23:19:48,391 : INFO : GET http://localhost:9200/dbpdiea_type_centric/_doc/381/_termvectors?fields=abstract&term_statistics=true [status:200 request:0.759s]\n",
      "2021-11-17 23:19:49,082 : INFO : GET http://localhost:9200/dbpdiea_type_centric/_doc/381/_termvectors?fields=abstract&term_statistics=true [status:200 request:0.089s]\n"
     ]
    },
    {
     "data": {
      "text/plain": [
       "{'TCBM25_t_q': 2.4058, 'TCLM_t_q': -27.3962}"
      ]
     },
     "execution_count": 9,
     "metadata": {},
     "output_type": "execute_result"
    }
   ],
   "source": [
    "extract_features_11to12(dp_type, question,docID_DBOtype_dict,es)"
   ]
  },
  {
   "cell_type": "code",
   "execution_count": 10,
   "metadata": {},
   "outputs": [
    {
     "data": {
      "text/plain": [
       "{'DEPTH_t': 0.429, 'CHILDREN_t': 0, 'SIBLINGS_t': 11}"
      ]
     },
     "execution_count": 10,
     "metadata": {},
     "output_type": "execute_result"
    }
   ],
   "source": [
    "extract_features_13to15(typeobj,dp_type)"
   ]
  },
  {
   "cell_type": "code",
   "execution_count": 11,
   "metadata": {},
   "outputs": [
    {
     "name": "stdout",
     "output_type": "stream",
     "text": [
      "{'ENTITIES_t': 440}\n"
     ]
    }
   ],
   "source": [
    "print(extract_features_16(DBpedia_map_type_entities,dp_type))\n"
   ]
  },
  {
   "cell_type": "code",
   "execution_count": 12,
   "metadata": {},
   "outputs": [
    {
     "data": {
      "text/plain": [
       "{'LENGTH_t': 17, 'IDFSUM_t': 0.5972, 'IDFAVG_t': 0.0498}"
      ]
     },
     "execution_count": 12,
     "metadata": {},
     "output_type": "execute_result"
    }
   ],
   "source": [
    "extract_features_17to19(training_map_type_questions,dp_type,question)"
   ]
  },
  {
   "cell_type": "code",
   "execution_count": 13,
   "metadata": {},
   "outputs": [
    {
     "data": {
      "text/plain": [
       "{'JTERMS1_t_q': 0.1667, 'JTERMS2_t_q': 0.0909, 'JNOUNS_t_q': 0.3333}"
      ]
     },
     "execution_count": 13,
     "metadata": {},
     "output_type": "execute_result"
    }
   ],
   "source": [
    "extract_features_20to22(dp_type,question)"
   ]
  },
  {
   "cell_type": "code",
   "execution_count": 14,
   "metadata": {},
   "outputs": [
    {
     "data": {
      "text/plain": [
       "{'SIMAGGR_t_q': 0.0196, 'SIMMAX_t_q': 1.0, 'SIMAVG_t_q': 0.2434}"
      ]
     },
     "execution_count": 14,
     "metadata": {},
     "output_type": "execute_result"
    }
   ],
   "source": [
    "extract_features_23to25(model_loaded,dp_type, question, mode=\"Euclidean\")"
   ]
  },
  {
   "cell_type": "code",
   "execution_count": 15,
   "metadata": {},
   "outputs": [
    {
     "data": {
      "text/plain": [
       "{'SIMAGGR_t_q': 0.112, 'SIMMAX_t_q': 1.0, 'SIMAVG_t_q': 0.2434}"
      ]
     },
     "execution_count": 15,
     "metadata": {},
     "output_type": "execute_result"
    }
   ],
   "source": [
    "extract_features_23to25(model_loaded,dp_type, question, mode=\"similarities\")"
   ]
  },
  {
   "cell_type": "code",
   "execution_count": 16,
   "metadata": {},
   "outputs": [],
   "source": [
    "def extract_features(\n",
    "    question:str,\n",
    "    dp_type: str,\n",
    "    DBpedia_map_type_entities:Dict,\n",
    "    docID_DBOtype_dict:Dict,\n",
    "    typeobj:TypeTaxonomy,\n",
    "    training_map_type_questions:Dict,\n",
    "    model_loaded:gensim.models.keyedvectors.KeyedVectors,\n",
    "    es: Elasticsearch,\n",
    "    add_extra_features:bool=False\n",
    ") -> List[float]:\n",
    "    \"\"\"Extracts features of a query and document pair.\n",
    "\n",
    "        Args:\n",
    "            query: string.\n",
    "            dp_type: DBO type.\n",
    "            es: Elasticsearch object instance.\n",
    "\n",
    "        Returns:\n",
    "            List of extracted feature values in a fixed order.\n",
    "    \"\"\"\n",
    "    features_1to5 = extract_features_1to5(DBpedia_map_type_entities,dp_type,question,es)\n",
    "    feature_vect = list(features_1to5.values())\n",
    "\n",
    "    features_11to12 = extract_features_11to12(dp_type, question,docID_DBOtype_dict,es)\n",
    "    feature_vect.extend(list(features_11to12.values()))\n",
    "\n",
    "    features_13to15 = extract_features_13to15(typeobj,dp_type)\n",
    "    feature_vect.extend(list(features_13to15.values()))\n",
    "    \n",
    "    features_16=extract_features_16(DBpedia_map_type_entities,dp_type)\n",
    "    feature_vect.extend(list(features_16.values()))\n",
    "    \n",
    "    features_17to19=extract_features_17to19(training_map_type_questions,dp_type,question)\n",
    "    feature_vect.extend(list(features_17to19.values()))\n",
    "    \n",
    "    features_20to22=extract_features_20to22(dp_type,question)\n",
    "    feature_vect.extend(list(features_20to22.values()))\n",
    "    \n",
    "    features_23to25=extract_features_23to25(model_loaded,dp_type, question, mode=\"Euclidean\")\n",
    "    feature_vect.extend(list(features_23to25.values()))\n",
    "\n",
    "    if add_extra_features:\n",
    "        features_23to25_variant=extract_features_23to25(model_loaded,dp_type, question, mode=\"similarities\")\n",
    "        feature_vect.extend(list(features_23to25_variant.values()))\n",
    "    \n",
    "    return feature_vect"
   ]
  },
  {
   "cell_type": "code",
   "execution_count": 17,
   "metadata": {},
   "outputs": [
    {
     "name": "stderr",
     "output_type": "stream",
     "text": [
      "2021-11-17 23:19:49,840 : INFO : HEAD http://localhost:9200/dbpedia_entity_centric [status:200 request:0.004s]\n",
      "2021-11-17 23:19:49,905 : INFO : GET http://localhost:9200/dbpedia_entity_centric/_search?_source=true&q=When+was+Bibi+Andersson+music+festival+married+to+Per+Ahlmark+very+green%3F&size=5 [status:200 request:0.063s]\n",
      "2021-11-17 23:19:49,988 : INFO : GET http://localhost:9200/dbpedia_entity_centric/_search?_source=true&q=When+was+Bibi+Andersson+music+festival+married+to+Per+Ahlmark+very+green%3F&size=10 [status:200 request:0.082s]\n",
      "2021-11-17 23:19:50,082 : INFO : GET http://localhost:9200/dbpedia_entity_centric/_search?_source=true&q=When+was+Bibi+Andersson+music+festival+married+to+Per+Ahlmark+very+green%3F&size=20 [status:200 request:0.092s]\n",
      "2021-11-17 23:19:50,220 : INFO : GET http://localhost:9200/dbpedia_entity_centric/_search?_source=true&q=When+was+Bibi+Andersson+music+festival+married+to+Per+Ahlmark+very+green%3F&size=50 [status:200 request:0.138s]\n",
      "2021-11-17 23:19:50,477 : INFO : GET http://localhost:9200/dbpedia_entity_centric/_search?_source=true&q=When+was+Bibi+Andersson+music+festival+married+to+Per+Ahlmark+very+green%3F&size=100 [status:200 request:0.256s]\n",
      "2021-11-17 23:19:50,482 : INFO : HEAD http://localhost:9200/dbpdiea_type_centric [status:200 request:0.003s]\n",
      "2021-11-17 23:19:50,716 : INFO : GET http://localhost:9200/dbpdiea_type_centric/_doc/381/_termvectors?fields=abstract&term_statistics=true [status:200 request:0.233s]\n",
      "2021-11-17 23:19:50,885 : INFO : GET http://localhost:9200/dbpdiea_type_centric/_doc/381/_termvectors?fields=abstract&term_statistics=true [status:200 request:0.158s]\n"
     ]
    },
    {
     "data": {
      "text/plain": [
       "[0.2988,\n",
       " 0.5576,\n",
       " 1.0138,\n",
       " 2.2146,\n",
       " 4.0381,\n",
       " 2.4058,\n",
       " -27.3962,\n",
       " 0.429,\n",
       " 0,\n",
       " 11,\n",
       " 440,\n",
       " 17,\n",
       " 0.5972,\n",
       " 0.0498,\n",
       " 0.1667,\n",
       " 0.0909,\n",
       " 0.3333,\n",
       " 0.0196,\n",
       " 1.0,\n",
       " 0.2434]"
      ]
     },
     "execution_count": 17,
     "metadata": {},
     "output_type": "execute_result"
    }
   ],
   "source": [
    "extract_features(\n",
    "    question,\n",
    "    dp_type,\n",
    "    DBpedia_map_type_entities,\n",
    "    docID_DBOtype_dict,\n",
    "    typeobj,\n",
    "    training_map_type_questions,\n",
    "    model_loaded,\n",
    "    es) "
   ]
  }
 ],
 "metadata": {
  "kernelspec": {
   "display_name": "Python 3",
   "language": "python",
   "name": "python3"
  },
  "language_info": {
   "codemirror_mode": {
    "name": "ipython",
    "version": 3
   },
   "file_extension": ".py",
   "mimetype": "text/x-python",
   "name": "python",
   "nbconvert_exporter": "python",
   "pygments_lexer": "ipython3",
   "version": "3.7.6"
  },
  "toc": {
   "base_numbering": 1,
   "nav_menu": {},
   "number_sections": true,
   "sideBar": true,
   "skip_h1_title": false,
   "title_cell": "Table of Contents",
   "title_sidebar": "Contents",
   "toc_cell": false,
   "toc_position": {},
   "toc_section_display": true,
   "toc_window_display": false
  }
 },
 "nbformat": 4,
 "nbformat_minor": 4
}
