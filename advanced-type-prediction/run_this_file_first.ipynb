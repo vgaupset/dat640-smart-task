{
 "cells": [
  {
   "cell_type": "code",
   "execution_count": 1,
   "metadata": {},
   "outputs": [
    {
     "name": "stdout",
     "output_type": "stream",
     "text": [
      "/c/Users/junec/anaconda3/python\n",
      "/c/Users/junec/anaconda3/Scripts/pip\n"
     ]
    },
    {
     "data": {
      "text/plain": [
       "64"
      ]
     },
     "execution_count": 1,
     "metadata": {},
     "output_type": "execute_result"
    }
   ],
   "source": [
    "#make sure to sure a 64bits python\n",
    "!which python\n",
    "!which pip\n",
    "import struct\n",
    "struct.calcsize(\"P\") * 8"
   ]
  },
  {
   "cell_type": "code",
   "execution_count": 7,
   "metadata": {},
   "outputs": [
    {
     "name": "stdout",
     "output_type": "stream",
     "text": [
      "C:\\Users\\junec\\OneDrive\\Documents\\cs\\courses_term3\\DAT640_ Information_Retrieval\\project\\dat640-smart-task\\advanced-type-prediction\\util\n",
      "run files to generate needed file and index to elasticsearch\n"
     ]
    }
   ],
   "source": [
    "%cd util\n",
    "print(\"to generate needed file and index to elasticsearch\")"
   ]
  },
  {
   "cell_type": "code",
   "execution_count": 2,
   "metadata": {},
   "outputs": [
    {
     "name": "stdout",
     "output_type": "stream",
     "text": [
      "----------------------running DBpedia_map_type_entities.ipynb\n",
      "Save a dictionary as a json file, DBOtype as key, \n",
      "all the corresponding entities as the value.\n",
      "The length of the dictionary is 266\n",
      "----------------------running DBpedia_map_entity_abstract.ipynb\n",
      "Save a dictionary as a json file, DBpedia entities as key, \n",
      "all the corresponding abstract as the value.\n",
      "The length of the dictionary is 5999\n",
      "----------------------running DBpedia_map_type_abstract.ipynb\n",
      "\"../data/DBpedia_map_type_entities.json\" is loaded, and the length is 266.\n",
      "\"../data/DBpedia_map_entity_abstract.json\" is loaded, and the length is 5999.\n",
      "50 has been processed\n",
      "Save a dictionary as a json file, DBOtype as key, abstract as the value. The length of the dictionary is len(collections)\n"
     ]
    }
   ],
   "source": [
    "print(\"----------------------running DBpedia_map_type_entities.ipynb\")\n",
    "%run DBpedia_map_type_entities.ipynb\n",
    "print(\"----------------------running DBpedia_map_entity_abstract.ipynb\")\n",
    "%run DBpedia_map_entity_abstract.ipynb\n",
    "print(\"----------------------running DBpedia_map_type_abstract.ipynb\")\n",
    "%run DBpedia_map_type_abstract.ipynb"
   ]
  },
  {
   "cell_type": "code",
   "execution_count": 3,
   "metadata": {},
   "outputs": [
    {
     "name": "stdout",
     "output_type": "stream",
     "text": [
      "----------------------running index_training_type.ipynb.ipynb\n"
     ]
    },
    {
     "name": "stderr",
     "output_type": "stream",
     "text": [
      "c:\\users\\junec\\appdata\\local\\programs\\python\\python38-32\\lib\\site-packages\\elasticsearch\\connection\\base.py:209: ElasticsearchWarning: Elasticsearch built-in security features are not enabled. Without authentication, your cluster could be accessible to anyone. See https://www.elastic.co/guide/en/elasticsearch/reference/7.15/security-minimal-setup.html to enable security.\n",
      "  warnings.warn(message, category=ElasticsearchWarning)\n",
      "C:\\Users\\junec\\AppData\\Local\\Temp/ipykernel_6480/1590620374.py:80: DeprecationWarning: Using positional arguments for APIs is deprecated and will be disabled in 8.0.0. Instead use only keyword arguments for all APIs. See https://github.com/elastic/elasticsearch-py/issues/1698 for more information\n",
      "  if self.es.indices.exists(self.index):\n",
      "C:\\Users\\junec\\AppData\\Local\\Temp/ipykernel_6480/1590620374.py:83: DeprecationWarning: The 'body' parameter is deprecated for the 'create' API and will be removed in a future version. Instead use API parameters directly. See https://github.com/elastic/elasticsearch-py/issues/1698 for more information\n",
      "  self.es.indices.create(index=self.index, body=self.index_settings)\n"
     ]
    },
    {
     "name": "stdout",
     "output_type": "stream",
     "text": [
      "306 items are indexed in elasticSearch, index name is trainning_type_questions\n",
      "training_types.json are saved\n",
      "----------------------running index_DBpedia_type_centric.ipynb\n",
      "\"dbpdiea_type_centric\" already exists in ElasticSearch, and there are 421 items.\n",
      "----------------------running index_DBpedia_entity-centric.ipynb\n",
      "\"dbpedia_entity_centric\" already exists in ElasticSearch, and there are 4935279 items.\n"
     ]
    },
    {
     "name": "stderr",
     "output_type": "stream",
     "text": [
      "C:\\Users\\junec\\AppData\\Local\\Temp/ipykernel_6480/1590620374.py:96: DeprecationWarning: Using positional arguments for APIs is deprecated and will be disabled in 8.0.0. Instead use only keyword arguments for all APIs. See https://github.com/elastic/elasticsearch-py/issues/1698 for more information\n",
      "  self.es.indices.refresh(self.index)\n",
      "C:\\Users\\junec\\AppData\\Local\\Temp/ipykernel_6480/1590620374.py:97: DeprecationWarning: Using positional arguments for APIs is deprecated and will be disabled in 8.0.0. Instead use only keyword arguments for all APIs. See https://github.com/elastic/elasticsearch-py/issues/1698 for more information\n",
      "  count = self.es.cat.count(self.index, params={\"format\": \"json\"})\n",
      "C:\\Users\\junec\\AppData\\Local\\Temp/ipykernel_6480/294679226.py:14: DeprecationWarning: Using positional arguments for APIs is deprecated and will be disabled in 8.0.0. Instead use only keyword arguments for all APIs. See https://github.com/elastic/elasticsearch-py/issues/1698 for more information\n",
      "  if es.indices.exists(index):\n",
      "C:\\Users\\junec\\AppData\\Local\\Temp/ipykernel_6480/294679226.py:15: DeprecationWarning: Using positional arguments for APIs is deprecated and will be disabled in 8.0.0. Instead use only keyword arguments for all APIs. See https://github.com/elastic/elasticsearch-py/issues/1698 for more information\n",
      "  count = es.cat.count(index, params={\"format\": \"json\"})\n",
      "C:\\Users\\junec\\AppData\\Local\\Temp/ipykernel_6480/1580639484.py:12: DeprecationWarning: Using positional arguments for APIs is deprecated and will be disabled in 8.0.0. Instead use only keyword arguments for all APIs. See https://github.com/elastic/elasticsearch-py/issues/1698 for more information\n",
      "  if es.indices.exists(index):\n",
      "C:\\Users\\junec\\AppData\\Local\\Temp/ipykernel_6480/1580639484.py:13: DeprecationWarning: Using positional arguments for APIs is deprecated and will be disabled in 8.0.0. Instead use only keyword arguments for all APIs. See https://github.com/elastic/elasticsearch-py/issues/1698 for more information\n",
      "  count = es.cat.count(index, params={\"format\": \"json\"})\n"
     ]
    }
   ],
   "source": [
    "print(\"----------------------running index_training_type.ipynb.ipynb\")\n",
    "%run index_training_type.ipynb\n",
    "print(\"----------------------running index_DBpedia_type_centric.ipynb\")\n",
    "%run index_DBpedia_type_centric.ipynb\n",
    "print(\"----------------------running index_DBpedia_entity-centric.ipynb\")\n",
    "%run index_DBpedia_entity-centric.ipynb"
   ]
  },
  {
   "cell_type": "code",
   "execution_count": 4,
   "metadata": {},
   "outputs": [
    {
     "name": "stderr",
     "output_type": "stream",
     "text": [
      "C:\\Users\\junec\\AppData\\Local\\Temp/ipykernel_6480/1564314955.py:2: DeprecationWarning: Using positional arguments for APIs is deprecated and will be disabled in 8.0.0. Instead use only keyword arguments for all APIs. See https://github.com/elastic/elasticsearch-py/issues/1698 for more information\n",
      "  if not es.indices.exists(index):\n",
      "C:\\Users\\junec\\AppData\\Local\\Temp/ipykernel_6480/1564314955.py:5: DeprecationWarning: Using positional arguments for APIs is deprecated and will be disabled in 8.0.0. Instead use only keyword arguments for all APIs. See https://github.com/elastic/elasticsearch-py/issues/1698 for more information\n",
      "  count = es.cat.count(index, params={\"format\": \"json\"})\n"
     ]
    },
    {
     "name": "stdout",
     "output_type": "stream",
     "text": [
      "----------------------running ElasticSearch_map_type_docID.ipynb\n",
      "../data/ElasticSearch_map_type_docID.json has been created, 421 are in this dictionary\n"
     ]
    }
   ],
   "source": [
    "print(\"----------------------running ElasticSearch_map_type_docID.ipynb\")\n",
    "%run ElasticSearch_map_type_docID.ipynb"
   ]
  },
  {
   "cell_type": "code",
   "execution_count": null,
   "metadata": {},
   "outputs": [],
   "source": [
    "%run ElasticSearch_map_docID_docLength.ipynb\n",
    "%run Knowlegebase_map_type_features13to16.ipynb"
   ]
  },
  {
   "cell_type": "code",
   "execution_count": 8,
   "metadata": {},
   "outputs": [
    {
     "name": "stdout",
     "output_type": "stream",
     "text": [
      "C:\\Users\\junec\\OneDrive\\Documents\\cs\\courses_term3\\DAT640_ Information_Retrieval\\project\\dat640-smart-task\\advanced-type-prediction\n"
     ]
    }
   ],
   "source": [
    "%cd .."
   ]
  },
  {
   "cell_type": "code",
   "execution_count": 3,
   "metadata": {},
   "outputs": [
    {
     "name": "stdout",
     "output_type": "stream",
     "text": [
      "/c/Users/junec/OneDrive/Documents/cs/courses_term3/DAT640_ Information_Retrieval/project/dat640-smart-task/advanced-type-prediction\n"
     ]
    }
   ],
   "source": [
    "!pwd\n",
    "# we finally do not use baseline and knowlege base features, since they are using too much time\n",
    "# print(\"------------to prepare baseline features training data\")\n",
    "# %run prepare_training_data_baseline.ipynb\n",
    "# print(\"------------to prepare knowledge base features training data\")\n",
    "# %run prepare_training_data_knowlegebase.ipynb\n",
    "#print(\"------------to prepare type label features training data\")\n",
    "# %run prepare_training_data_type_label.ipynb"
   ]
  },
  {
   "cell_type": "code",
   "execution_count": null,
   "metadata": {},
   "outputs": [],
   "source": [
    "print(\"------------to prepare type label features training data\")\n",
    "%run prepare_training_data_type_label_alltypes.ipynb"
   ]
  },
  {
   "cell_type": "code",
   "execution_count": null,
   "metadata": {},
   "outputs": [],
   "source": [
    "print(\"------------to get baseline result\")\n",
    "%run baseline_method.ipynb"
   ]
  }
 ],
 "metadata": {
  "kernelspec": {
   "display_name": "Python 3",
   "language": "python",
   "name": "python3"
  },
  "language_info": {
   "codemirror_mode": {
    "name": "ipython",
    "version": 3
   },
   "file_extension": ".py",
   "mimetype": "text/x-python",
   "name": "python",
   "nbconvert_exporter": "python",
   "pygments_lexer": "ipython3",
   "version": "3.7.6"
  },
  "toc": {
   "base_numbering": 1,
   "nav_menu": {},
   "number_sections": true,
   "sideBar": true,
   "skip_h1_title": false,
   "title_cell": "Table of Contents",
   "title_sidebar": "Contents",
   "toc_cell": false,
   "toc_position": {},
   "toc_section_display": true,
   "toc_window_display": false
  }
 },
 "nbformat": 4,
 "nbformat_minor": 5
}
